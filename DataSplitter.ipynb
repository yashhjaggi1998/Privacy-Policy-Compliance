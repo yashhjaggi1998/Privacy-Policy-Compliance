{
 "cells": [
  {
   "cell_type": "code",
   "execution_count": 1,
   "metadata": {},
   "outputs": [],
   "source": [
    "import numpy as np"
   ]
  },
  {
   "cell_type": "code",
   "execution_count": 2,
   "metadata": {},
   "outputs": [
    {
     "name": "stdout",
     "output_type": "stream",
     "text": [
      "Low Risk Samples : 15\n",
      "Mid Risk Samples : 0\n",
      "High Risk Samples : 12\n"
     ]
    }
   ],
   "source": [
    "# Load Raw Data\n",
    "\n",
    "lowRiskData = np.load(\"H:\\BE_PROJECT\\DataCollection\\Grading\\Graded Data\\Type7\\low.npy\")\n",
    "print(\"Low Risk Samples : \" + str(len(lowRiskData)))\n",
    "midRiskData = np.load(\"H:\\BE_PROJECT\\DataCollection\\Grading\\Graded Data\\Type7\\mid.npy\")\n",
    "print(\"Mid Risk Samples : \" + str(len(midRiskData)))\n",
    "highRiskData = np.load(\"H:\\BE_PROJECT\\DataCollection\\Grading\\Graded Data\\Type7\\high.npy\")\n",
    "print(\"High Risk Samples : \" + str(len(highRiskData)))"
   ]
  },
  {
   "cell_type": "code",
   "execution_count": 3,
   "metadata": {},
   "outputs": [
    {
     "name": "stdout",
     "output_type": "stream",
     "text": [
      "(4, 2)\n",
      "(11, 2)\n",
      "(0, 2)\n",
      "(0, 2)\n",
      "(3, 2)\n",
      "(9, 2)\n",
      "(20, 2)\n",
      "(7, 2)\n",
      "(20,)\n",
      "(20,)\n",
      "['If we become aware that personal information has been collected on the Platform from a person under the age of 13 we will delete this information and terminate the person account.'\n",
      " '0.0']\n",
      "If we become aware that personal information has been collected on the Platform from a person under the age of 13 we will delete this information and terminate the person account.\n",
      "0.0\n",
      "(7,)\n",
      "(7,)\n",
      "['Children under the age of 13 are not allowed to create an account or otherwise use the Services.'\n",
      " '0.0']\n",
      "Children under the age of 13 are not allowed to create an account or otherwise use the Services.\n",
      "0.0\n"
     ]
    }
   ],
   "source": [
    "# Training Testing Split 75/25\n",
    "\n",
    "np.random.shuffle(lowRiskData)\n",
    "lowRiskData = np.c_[lowRiskData, np.zeros(lowRiskData.shape[0])]\n",
    "lowTest = lowRiskData[int((lowRiskData.shape[0] * 0.75)):]\n",
    "lowTrain = lowRiskData[0:int((lowRiskData.shape[0] * 0.75))]\n",
    "\n",
    "np.random.shuffle(midRiskData)\n",
    "midRiskData = np.c_[midRiskData, np.ones(midRiskData.shape[0])]\n",
    "midTest = midRiskData[int((midRiskData.shape[0] * 0.75)):]\n",
    "midTrain = midRiskData[0:int((midRiskData.shape[0] * 0.75))]\n",
    "\n",
    "np.random.shuffle(highRiskData)\n",
    "highRiskData = np.c_[highRiskData, np.full(highRiskData.shape[0], 2.)]\n",
    "highTest = highRiskData[int((highRiskData.shape[0] * 0.75)):]\n",
    "highTrain = highRiskData[0:int((highRiskData.shape[0] * 0.75))]\n",
    "\n",
    "print(lowTest.shape)\n",
    "print(lowTrain.shape)\n",
    "print(midTest.shape)\n",
    "print(midTrain.shape)\n",
    "print(highTest.shape)\n",
    "print(highTrain.shape)\n",
    "\n",
    "Training = np.concatenate([lowTrain, midTrain, highTrain])\n",
    "np.random.shuffle(Training)\n",
    "Testing = np.concatenate([lowTest, midTest, highTest])\n",
    "np.random.shuffle(Testing)\n",
    "\n",
    "print(Training.shape)\n",
    "print(Testing.shape)\n",
    "\n",
    "training_sentences = Training[:, 0]\n",
    "training_labels = Training[:, 1]\n",
    "\n",
    "print(training_sentences.shape)\n",
    "print(training_labels.shape)\n",
    "\n",
    "print(Training[0])\n",
    "print(training_sentences[0])\n",
    "print(training_labels[0])\n",
    "\n",
    "testing_sentences = Testing[:, 0]\n",
    "testing_labels = Testing[:, 1]\n",
    "\n",
    "print(testing_sentences.shape)\n",
    "print(testing_labels.shape)\n",
    "\n",
    "print(Testing[0])\n",
    "print(testing_sentences[0])\n",
    "print(testing_labels[0])"
   ]
  },
  {
   "cell_type": "code",
   "execution_count": 4,
   "metadata": {},
   "outputs": [],
   "source": [
    "np.save(\"Datasets/Type7/training_sentences.npy\", training_sentences)\n",
    "np.save(\"Datasets/Type7/testing_sentences.npy\", testing_sentences)\n",
    "np.save(\"Datasets/Type7/training_labels.npy\", training_labels)\n",
    "np.save(\"Datasets/Type7/testing_labels.npy\", testing_labels)"
   ]
  }
 ],
 "metadata": {
  "kernelspec": {
   "display_name": "Python 3",
   "language": "python",
   "name": "python3"
  },
  "language_info": {
   "codemirror_mode": {
    "name": "ipython",
    "version": 3
   },
   "file_extension": ".py",
   "mimetype": "text/x-python",
   "name": "python",
   "nbconvert_exporter": "python",
   "pygments_lexer": "ipython3",
   "version": "3.7.4"
  }
 },
 "nbformat": 4,
 "nbformat_minor": 4
}
