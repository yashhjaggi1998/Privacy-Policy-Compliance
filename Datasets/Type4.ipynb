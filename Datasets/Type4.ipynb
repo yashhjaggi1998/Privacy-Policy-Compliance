{
 "cells": [
  {
   "cell_type": "code",
   "execution_count": 1,
   "metadata": {},
   "outputs": [
    {
     "name": "stderr",
     "output_type": "stream",
     "text": [
      "Using TensorFlow backend.\n"
     ]
    },
    {
     "data": {
      "text/plain": [
       "[PhysicalDevice(name='/physical_device:GPU:0', device_type='GPU')]"
      ]
     },
     "execution_count": 1,
     "metadata": {},
     "output_type": "execute_result"
    }
   ],
   "source": [
    "import numpy as np\n",
    "import tensorflow as tf\n",
    "from tensorflow.keras.preprocessing.text import Tokenizer\n",
    "from tensorflow.keras.preprocessing.sequence import pad_sequences\n",
    "from sklearn.preprocessing import LabelEncoder\n",
    "from keras.utils import np_utils\n",
    "\n",
    "tf.config.experimental.list_physical_devices('GPU')"
   ]
  },
  {
   "cell_type": "code",
   "execution_count": 2,
   "metadata": {},
   "outputs": [],
   "source": [
    "# Hyperparameters\n",
    "\n",
    "vocab_size = 400\n",
    "embedding_dim = 64\n",
    "max_length = 50\n",
    "trunc_type='post'\n",
    "padding_type='post'\n",
    "oov_tok = \"<OOV>\""
   ]
  },
  {
   "cell_type": "code",
   "execution_count": 3,
   "metadata": {},
   "outputs": [
    {
     "name": "stdout",
     "output_type": "stream",
     "text": [
      "(60,)\n",
      "(60,)\n",
      "(22,)\n",
      "(22,)\n"
     ]
    }
   ],
   "source": [
    "# Load Data\n",
    "\n",
    "training_sentences = np.load(\"Datasets/Type4/training_sentences.npy\")\n",
    "testing_sentences = np.load(\"Datasets/Type4/testing_sentences.npy\")\n",
    "training_labels = np.load(\"Datasets/Type4/training_labels.npy\")\n",
    "testing_labels = np.load(\"Datasets/Type4/testing_labels.npy\")\n",
    "\n",
    "print(training_sentences.shape)\n",
    "print(training_labels.shape)\n",
    "print(testing_sentences.shape)\n",
    "print(testing_labels.shape)"
   ]
  },
  {
   "cell_type": "code",
   "execution_count": 4,
   "metadata": {},
   "outputs": [],
   "source": [
    "# encode label values as integers\n",
    "\n",
    "encoder = LabelEncoder()\n",
    "encoder.fit(training_labels)\n",
    "# convert integers to dummy variables (i.e. one hot encoded)\n",
    "training_labels = np_utils.to_categorical(encoder.transform(training_labels))\n",
    "testing_labels = np_utils.to_categorical(encoder.transform(testing_labels))"
   ]
  },
  {
   "cell_type": "code",
   "execution_count": 5,
   "metadata": {},
   "outputs": [
    {
     "name": "stdout",
     "output_type": "stream",
     "text": [
      "{'<OOV>': 1, 'you': 2, 'your': 3, 'to': 4, 'the': 5, 'we': 6, 'of': 7, 'information': 8, 'or': 9, 'and': 10, 'in': 11, 'on': 12, 'personal': 13, 'may': 14, 'use': 15, 'consent': 16, 'can': 17, 'user': 18, 'have': 19, 'right': 20, 'a': 21, 'cannot': 22, 'if': 23, 'data': 24, 'that': 25, 'by': 26, 'out': 27, 'not': 28, 'settings': 29, 'will': 30, 'with': 31, 'email': 32, 'address': 33, 'profile': 34, 'google': 35, 'privacy': 36, 'about': 37, 'control': 38, 'is': 39, 'for': 40, 'opt': 41, 'be': 42, 'services': 43, 'cookies': 44, 'private': 45, 'policy': 46, 'our': 47, 'delete': 48, 'third': 49, 'party': 50, 'share': 51, 'without': 52, 'any': 53, 'this': 54, 'content': 55, 'network': 56, 'able': 57, 'collect': 58, 'as': 59, 'how': 60, 'processing': 61, 'at': 62, 'when': 63, 'social': 64, 'request': 65, 'through': 66, 'advertising': 67, 'browser': 68, 'even': 69, 'marketing': 70, 'youe': 71, 'provide': 72, 'change': 73, 'ability': 74, 'quora': 75, 'us': 76, 'choices': 77, 'using': 78, 'before': 79, 'collection': 80, 'manage': 81, 'used': 82, 'legitimate': 83, 'device': 84, 'github': 85, 'media': 86, 'sites': 87, 'ask': 88, 'might': 89, 'communicate': 90, 'rights': 91, 'such': 92, 'access': 93, 'emails': 94, 'explicit': 95, 'only': 96, 'some': 97, 'like': 98, 'disable': 99, 'receive': 100, 'post': 101, 'default': 102, 'block': 103, 'another': 104, 'follow': 105, 'other': 106, 'users': 107, 'dart': 108, 'cookie': 109, 'visiting': 110, 'ad': 111, 'want': 112, 'described': 113, 'products': 114, 'reddit': 115, 'maintains': 116, 'it': 117, 'preferences': 118, 'choose': 119, 'object': 120, 'are': 121, 'basis': 122, 'interest': 123, 'mobile': 124, 'who': 125, 'sees': 126, 'under': 127, 'circumstances': 128, 'where': 129, 'shared': 130, 'outside': 131, 'no': 132, 'relation': 133, 'deletion': 134, 'portability': 135, 'unsubscribe': 136, 'said': 137, 'okay': 138, 'submit': 139, 'certain': 140, 'geeksforgeeks': 141, 'assets': 142, 'acquired': 143, 'would': 144, 'create': 145, 'time': 146, 'sensitive': 147, 'refuse': 148, 'my': 149, 'account': 150, 'dependent': 151, 'upon': 152, 'selecting': 153, 'setting': 154, 'do': 155, 'process': 156, 'herein': 157, 'several': 158, 'including': 159, 'limiting': 160, 'give': 161, 'limit': 162, 'from': 163, 'lodge': 164, 'complaints': 165, 'competent': 166, 'protection': 167, 'regulator': 168, 'deemed': 169, 'consented': 170, 'disclosure': 171, 'transfer': 172, 'regarding': 173, \"it's\": 174, 'usually': 175, 'set': 176, 'remove': 177, 'reject': 178, 'first': 179, 'unless': 180, 'demonstrate': 181, 'compelling': 182, 'grounds': 183, 'which': 184, 'override': 185, 'direction': 186, 'switch': 187, 'off': 188, 'gps': 189, 'location': 190, 'functionality': 191, 'keep': 192, 'what': 193, 'rely': 194, 'following': 195, 'fill': 196, 'decide': 197, 'participate': 198, 'training': 199, 'research': 200, 'project': 201, 'beta': 202, 'program': 203, 'survey': 204, 'purposes': 205, 'applicable': 206, 'please': 207, 'aware': 208, 'others': 209, 'purpose': 210, 'isn': 211, 'covered': 212, 'reduce': 213, \"you've\": 214, \"that's\": 215, 'reasons': 216, 'collected': 217, 'sending': 218, 'physical': 219, 'provided': 220, 'contact': 221, 'section': 222, 'bottom': 223, 'substantially': 224, 'all': 225, 'its': 226, 'were': 227, 'unlikely': 228, 'event': 229, 'goes': 230, 'business': 231, 'enters': 232, 'bankruptcy': 233, 'one': 234, 'transferred': 235, 'analytics': 236, 'providers': 237, 'partner': 238, 'specific': 239, 'mechanisms': 240, 'needed': 241, 'available': 242, 'additional': 243, 'tools': 244, 'allow': 245, 'better': 246, 'understand': 247, 'features': 248, 'let': 249, 'more': 250, 'privately': 251, 'baidu': 252, 'support': 253, 'sharing': 254, 'page': 255, 'remain': 256, 'commenting': 257, 'public': 258, 'repositories': 259, 'way': 260, 'completely': 261, 'tracking': 262, 'technology': 263, 'actively': 264, 'based': 265, 'withdraw': 266, 'impact': 267, 'activities': 268, 'taken': 269, 'place': 270, 'withdrawal': 271, 'lot': 272, 'over': 273, 'offer': 274, 'adjusting': 275, 'activity': 276, 'allows': 277, 'review': 278, 'created': 279, 'searches': 280, 'done': 281, 'visits': 282, 'play': 283, 'changing': 284, \"'private\": 285, \"account'\": 286, \"'manage\": 287, \"account'settings\": 288, 'accept': 289, 'these': 290, 'log': 291, 'bases': 292, 'g': 293, 'suite': 294, 'whom': 295, 'utilizing': 296, 'link': 297, 'mechanism': 298, 'noted': 299, 'also': 300, \"facebook's\": 301, 'facebook': 302, 'pixelshere': 303, 'while': 304, 'entirely': 305, 'make': 306, 'aren': 307, 'signed': 308, 'an': 309, 'updates': 310, 'changes': 311, 'apply': 312, 'going': 313, 'forward': 314, 'wel': 315, 'whether': 316, 'name': 317, 'indexed': 318, 'search': 319, 'engines': 320, 'edit': 321, 'answers': 322}\n"
     ]
    }
   ],
   "source": [
    "# Initialize Tokenizer\n",
    "\n",
    "tokenizer = Tokenizer(num_words=vocab_size, oov_token=oov_tok)\n",
    "tokenizer.fit_on_texts(training_sentences)\n",
    "word_index = tokenizer.word_index\n",
    "print(word_index)"
   ]
  },
  {
   "cell_type": "code",
   "execution_count": 6,
   "metadata": {},
   "outputs": [],
   "source": [
    "# Tokenize the sentences\n",
    "\n",
    "training_sequences = tokenizer.texts_to_sequences(training_sentences)\n",
    "training_padded = pad_sequences(training_sequences, maxlen=max_length, padding=padding_type, truncating=trunc_type)\n",
    "\n",
    "testing_sequences = tokenizer.texts_to_sequences(testing_sentences)\n",
    "testing_padded = pad_sequences(testing_sequences, maxlen=max_length, padding=padding_type, truncating=trunc_type)"
   ]
  },
  {
   "cell_type": "code",
   "execution_count": 7,
   "metadata": {},
   "outputs": [
    {
     "name": "stdout",
     "output_type": "stream",
     "text": [
      "WARNING:tensorflow:From C:\\Users\\Pranav\\.conda\\envs\\py37\\lib\\site-packages\\tensorflow\\python\\keras\\initializers.py:119: calling RandomUniform.__init__ (from tensorflow.python.ops.init_ops) with dtype is deprecated and will be removed in a future version.\n",
      "Instructions for updating:\n",
      "Call initializer instance with the dtype argument instead of passing it to the constructor\n",
      "WARNING:tensorflow:From C:\\Users\\Pranav\\.conda\\envs\\py37\\lib\\site-packages\\tensorflow\\python\\ops\\init_ops.py:1251: calling VarianceScaling.__init__ (from tensorflow.python.ops.init_ops) with dtype is deprecated and will be removed in a future version.\n",
      "Instructions for updating:\n",
      "Call initializer instance with the dtype argument instead of passing it to the constructor\n",
      "WARNING:tensorflow:From C:\\Users\\Pranav\\.conda\\envs\\py37\\lib\\site-packages\\tensorflow\\python\\ops\\init_ops.py:97: calling GlorotUniform.__init__ (from tensorflow.python.ops.init_ops) with dtype is deprecated and will be removed in a future version.\n",
      "Instructions for updating:\n",
      "Call initializer instance with the dtype argument instead of passing it to the constructor\n",
      "WARNING:tensorflow:From C:\\Users\\Pranav\\.conda\\envs\\py37\\lib\\site-packages\\tensorflow\\python\\ops\\init_ops.py:97: calling Orthogonal.__init__ (from tensorflow.python.ops.init_ops) with dtype is deprecated and will be removed in a future version.\n",
      "Instructions for updating:\n",
      "Call initializer instance with the dtype argument instead of passing it to the constructor\n",
      "WARNING:tensorflow:From C:\\Users\\Pranav\\.conda\\envs\\py37\\lib\\site-packages\\tensorflow\\python\\ops\\init_ops.py:97: calling Zeros.__init__ (from tensorflow.python.ops.init_ops) with dtype is deprecated and will be removed in a future version.\n",
      "Instructions for updating:\n",
      "Call initializer instance with the dtype argument instead of passing it to the constructor\n",
      "Model: \"sequential\"\n",
      "_________________________________________________________________\n",
      "Layer (type)                 Output Shape              Param #   \n",
      "=================================================================\n",
      "embedding (Embedding)        (None, 50, 64)            25600     \n",
      "_________________________________________________________________\n",
      "bidirectional (Bidirectional (None, 64)                24832     \n",
      "_________________________________________________________________\n",
      "dense (Dense)                (None, 64)                4160      \n",
      "_________________________________________________________________\n",
      "dense_1 (Dense)              (None, 32)                2080      \n",
      "_________________________________________________________________\n",
      "dense_2 (Dense)              (None, 2)                 66        \n",
      "=================================================================\n",
      "Total params: 56,738\n",
      "Trainable params: 56,738\n",
      "Non-trainable params: 0\n",
      "_________________________________________________________________\n"
     ]
    }
   ],
   "source": [
    "# Sequential LSTM Model\n",
    "\n",
    "model = tf.keras.Sequential([\n",
    "    tf.keras.layers.Embedding(vocab_size, embedding_dim, input_length=max_length),\n",
    "    tf.keras.layers.Bidirectional(tf.keras.layers.LSTM(32)),\n",
    "    tf.keras.layers.Dense(64, activation='relu'),\n",
    "    tf.keras.layers.Dense(32, activation='relu'),\n",
    "    tf.keras.layers.Dense(2, activation='softmax')\n",
    "])\n",
    "\n",
    "model.compile(loss='categorical_crossentropy',optimizer='adam',metrics=['accuracy'])\n",
    "model.summary()"
   ]
  },
  {
   "cell_type": "code",
   "execution_count": 8,
   "metadata": {
    "scrolled": false
   },
   "outputs": [
    {
     "name": "stdout",
     "output_type": "stream",
     "text": [
      "Train on 60 samples, validate on 22 samples\n",
      "WARNING:tensorflow:From C:\\Users\\Pranav\\.conda\\envs\\py37\\lib\\site-packages\\tensorflow\\python\\ops\\math_grad.py:1250: add_dispatch_support.<locals>.wrapper (from tensorflow.python.ops.array_ops) is deprecated and will be removed in a future version.\n",
      "Instructions for updating:\n",
      "Use tf.where in 2.0, which has the same broadcast rule as np.where\n",
      "Epoch 1/50\n",
      "32/60 [===============>..............] - ETA: 0s - loss: 0.6953 - acc: 0.3125\n",
      "Epoch 00001: val_acc improved from -inf to 0.59091, saving model to Weights/Type4.hdf5\n",
      "60/60 [==============================] - 2s 26ms/sample - loss: 0.6945 - acc: 0.3833 - val_loss: 0.6912 - val_acc: 0.5909\n",
      "Epoch 2/50\n",
      "32/60 [===============>..............] - ETA: 0s - loss: 0.6899 - acc: 0.6250\n",
      "Epoch 00002: val_acc did not improve from 0.59091\n",
      "60/60 [==============================] - 0s 5ms/sample - loss: 0.6902 - acc: 0.6000 - val_loss: 0.6897 - val_acc: 0.5909\n",
      "Epoch 3/50\n",
      "32/60 [===============>..............] - ETA: 0s - loss: 0.6861 - acc: 0.6562\n",
      "Epoch 00003: val_acc did not improve from 0.59091\n",
      "60/60 [==============================] - 0s 5ms/sample - loss: 0.6879 - acc: 0.6000 - val_loss: 0.6879 - val_acc: 0.5909\n",
      "Epoch 4/50\n",
      "32/60 [===============>..............] - ETA: 0s - loss: 0.6857 - acc: 0.5938\n",
      "Epoch 00004: val_acc did not improve from 0.59091\n",
      "60/60 [==============================] - 0s 5ms/sample - loss: 0.6842 - acc: 0.6000 - val_loss: 0.6856 - val_acc: 0.5909\n",
      "Epoch 5/50\n",
      "32/60 [===============>..............] - ETA: 0s - loss: 0.6819 - acc: 0.5938\n",
      "Epoch 00005: val_acc did not improve from 0.59091\n",
      "60/60 [==============================] - 0s 6ms/sample - loss: 0.6799 - acc: 0.6000 - val_loss: 0.6828 - val_acc: 0.5909\n",
      "Epoch 6/50\n",
      "32/60 [===============>..............] - ETA: 0s - loss: 0.6628 - acc: 0.6875\n",
      "Epoch 00006: val_acc did not improve from 0.59091\n",
      "60/60 [==============================] - 0s 6ms/sample - loss: 0.6757 - acc: 0.6000 - val_loss: 0.6803 - val_acc: 0.5909\n",
      "Epoch 7/50\n",
      "32/60 [===============>..............] - ETA: 0s - loss: 0.6524 - acc: 0.6875\n",
      "Epoch 00007: val_acc did not improve from 0.59091\n",
      "60/60 [==============================] - 0s 7ms/sample - loss: 0.6691 - acc: 0.6000 - val_loss: 0.6783 - val_acc: 0.5909\n",
      "Epoch 8/50\n",
      "32/60 [===============>..............] - ETA: 0s - loss: 0.6761 - acc: 0.5312\n",
      "Epoch 00008: val_acc did not improve from 0.59091\n",
      "60/60 [==============================] - 0s 6ms/sample - loss: 0.6604 - acc: 0.6000 - val_loss: 0.6767 - val_acc: 0.5909\n",
      "Epoch 9/50\n",
      "32/60 [===============>..............] - ETA: 0s - loss: 0.6464 - acc: 0.6250\n",
      "Epoch 00009: val_acc did not improve from 0.59091\n",
      "60/60 [==============================] - 0s 5ms/sample - loss: 0.6520 - acc: 0.6000 - val_loss: 0.6745 - val_acc: 0.5909\n",
      "Epoch 10/50\n",
      "32/60 [===============>..............] - ETA: 0s - loss: 0.6504 - acc: 0.5938\n",
      "Epoch 00010: val_acc did not improve from 0.59091\n",
      "60/60 [==============================] - 0s 7ms/sample - loss: 0.6397 - acc: 0.6000 - val_loss: 0.6724 - val_acc: 0.5909\n",
      "Epoch 11/50\n",
      "32/60 [===============>..............] - ETA: 0s - loss: 0.5742 - acc: 0.7500\n",
      "Epoch 00011: val_acc did not improve from 0.59091\n",
      "60/60 [==============================] - 0s 7ms/sample - loss: 0.6290 - acc: 0.6000 - val_loss: 0.6706 - val_acc: 0.5909\n",
      "Epoch 12/50\n",
      "32/60 [===============>..............] - ETA: 0s - loss: 0.6278 - acc: 0.5938\n",
      "Epoch 00012: val_acc did not improve from 0.59091\n",
      "60/60 [==============================] - 0s 6ms/sample - loss: 0.6074 - acc: 0.6000 - val_loss: 0.6659 - val_acc: 0.5909\n",
      "Epoch 13/50\n",
      "32/60 [===============>..............] - ETA: 0s - loss: 0.6188 - acc: 0.5625\n",
      "Epoch 00013: val_acc did not improve from 0.59091\n",
      "60/60 [==============================] - 0s 6ms/sample - loss: 0.5850 - acc: 0.6000 - val_loss: 0.6580 - val_acc: 0.5909\n",
      "Epoch 14/50\n",
      "32/60 [===============>..............] - ETA: 0s - loss: 0.6011 - acc: 0.5000\n",
      "Epoch 00014: val_acc did not improve from 0.59091\n",
      "60/60 [==============================] - 0s 6ms/sample - loss: 0.5596 - acc: 0.6000 - val_loss: 0.6474 - val_acc: 0.5909\n",
      "Epoch 15/50\n",
      "32/60 [===============>..............] - ETA: 0s - loss: 0.5576 - acc: 0.6875\n",
      "Epoch 00015: val_acc did not improve from 0.59091\n",
      "60/60 [==============================] - 0s 7ms/sample - loss: 0.5238 - acc: 0.6833 - val_loss: 0.6426 - val_acc: 0.5909\n",
      "Epoch 16/50\n",
      "32/60 [===============>..............] - ETA: 0s - loss: 0.4432 - acc: 0.8125\n",
      "Epoch 00016: val_acc did not improve from 0.59091\n",
      "60/60 [==============================] - 0s 5ms/sample - loss: 0.4926 - acc: 0.7667 - val_loss: 0.6375 - val_acc: 0.5455\n",
      "Epoch 17/50\n",
      "32/60 [===============>..............] - ETA: 0s - loss: 0.4899 - acc: 0.7812\n",
      "Epoch 00017: val_acc did not improve from 0.59091\n",
      "60/60 [==============================] - 0s 6ms/sample - loss: 0.4509 - acc: 0.8333 - val_loss: 0.6208 - val_acc: 0.5455\n",
      "Epoch 18/50\n",
      "32/60 [===============>..............] - ETA: 0s - loss: 0.4492 - acc: 0.8750\n",
      "Epoch 00018: val_acc did not improve from 0.59091\n",
      "60/60 [==============================] - 0s 5ms/sample - loss: 0.4060 - acc: 0.9167 - val_loss: 0.6297 - val_acc: 0.5455\n",
      "Epoch 19/50\n",
      "32/60 [===============>..............] - ETA: 0s - loss: 0.3536 - acc: 0.9375\n",
      "Epoch 00019: val_acc did not improve from 0.59091\n",
      "60/60 [==============================] - 0s 6ms/sample - loss: 0.3568 - acc: 0.9167 - val_loss: 0.7074 - val_acc: 0.5000\n",
      "Epoch 20/50\n",
      "32/60 [===============>..............] - ETA: 0s - loss: 0.3475 - acc: 0.9062\n",
      "Epoch 00020: val_acc did not improve from 0.59091\n",
      "60/60 [==============================] - 0s 5ms/sample - loss: 0.3121 - acc: 0.9000 - val_loss: 0.7371 - val_acc: 0.5000\n",
      "Epoch 21/50\n",
      "32/60 [===============>..............] - ETA: 0s - loss: 0.2201 - acc: 0.9375\n",
      "Epoch 00021: val_acc did not improve from 0.59091\n",
      "60/60 [==============================] - 0s 5ms/sample - loss: 0.2800 - acc: 0.9167 - val_loss: 0.8101 - val_acc: 0.5000\n",
      "Epoch 22/50\n",
      "32/60 [===============>..............] - ETA: 0s - loss: 0.2876 - acc: 0.9375\n",
      "Epoch 00022: val_acc did not improve from 0.59091\n",
      "60/60 [==============================] - 0s 5ms/sample - loss: 0.2369 - acc: 0.9500 - val_loss: 0.7546 - val_acc: 0.5909\n",
      "Epoch 23/50\n",
      "32/60 [===============>..............] - ETA: 0s - loss: 0.2003 - acc: 0.9375\n",
      "Epoch 00023: val_acc did not improve from 0.59091\n",
      "60/60 [==============================] - 0s 5ms/sample - loss: 0.1993 - acc: 0.9333 - val_loss: 0.8330 - val_acc: 0.5455\n",
      "Epoch 24/50\n",
      "32/60 [===============>..............] - ETA: 0s - loss: 0.1981 - acc: 0.8750\n",
      "Epoch 00024: val_acc did not improve from 0.59091\n",
      "60/60 [==============================] - 0s 5ms/sample - loss: 0.1616 - acc: 0.9167 - val_loss: 1.0430 - val_acc: 0.5000\n",
      "Epoch 25/50\n",
      "32/60 [===============>..............] - ETA: 0s - loss: 0.1164 - acc: 0.9688\n",
      "Epoch 00025: val_acc did not improve from 0.59091\n",
      "60/60 [==============================] - 0s 5ms/sample - loss: 0.1361 - acc: 0.9667 - val_loss: 1.1346 - val_acc: 0.5000\n",
      "Epoch 26/50\n",
      "32/60 [===============>..............] - ETA: 0s - loss: 0.0954 - acc: 1.0000\n",
      "Epoch 00026: val_acc did not improve from 0.59091\n",
      "60/60 [==============================] - 0s 5ms/sample - loss: 0.1037 - acc: 0.9667 - val_loss: 1.0853 - val_acc: 0.4545\n",
      "Epoch 27/50\n",
      "32/60 [===============>..............] - ETA: 0s - loss: 0.0544 - acc: 1.0000\n",
      "Epoch 00027: val_acc did not improve from 0.59091\n",
      "60/60 [==============================] - 0s 6ms/sample - loss: 0.1034 - acc: 0.9833 - val_loss: 1.0914 - val_acc: 0.5000\n",
      "Epoch 28/50\n",
      "32/60 [===============>..............] - ETA: 0s - loss: 0.0862 - acc: 1.0000\n",
      "Epoch 00028: val_acc did not improve from 0.59091\n",
      "60/60 [==============================] - 0s 6ms/sample - loss: 0.0843 - acc: 0.9833 - val_loss: 1.3999 - val_acc: 0.5000\n",
      "Epoch 29/50\n",
      "32/60 [===============>..............] - ETA: 0s - loss: 0.0721 - acc: 0.9688\n",
      "Epoch 00029: val_acc did not improve from 0.59091\n",
      "60/60 [==============================] - 0s 5ms/sample - loss: 0.0837 - acc: 0.9667 - val_loss: 1.6486 - val_acc: 0.5000\n",
      "Epoch 30/50\n",
      "32/60 [===============>..............] - ETA: 0s - loss: 0.0712 - acc: 0.9688\n",
      "Epoch 00030: val_acc did not improve from 0.59091\n",
      "60/60 [==============================] - 0s 6ms/sample - loss: 0.0653 - acc: 0.9667 - val_loss: 1.5065 - val_acc: 0.5000\n"
     ]
    },
    {
     "name": "stdout",
     "output_type": "stream",
     "text": [
      "Epoch 31/50\n",
      "32/60 [===============>..............] - ETA: 0s - loss: 0.0303 - acc: 1.0000\n",
      "Epoch 00031: val_acc did not improve from 0.59091\n",
      "60/60 [==============================] - 0s 6ms/sample - loss: 0.0540 - acc: 0.9833 - val_loss: 1.4013 - val_acc: 0.4545\n",
      "Epoch 32/50\n",
      "32/60 [===============>..............] - ETA: 0s - loss: 0.0321 - acc: 1.0000\n",
      "Epoch 00032: val_acc did not improve from 0.59091\n",
      "60/60 [==============================] - 0s 6ms/sample - loss: 0.0614 - acc: 0.9833 - val_loss: 1.5125 - val_acc: 0.5000\n",
      "Epoch 33/50\n",
      "32/60 [===============>..............] - ETA: 0s - loss: 0.0609 - acc: 0.9688\n",
      "Epoch 00033: val_acc did not improve from 0.59091\n",
      "60/60 [==============================] - 0s 5ms/sample - loss: 0.0418 - acc: 0.9833 - val_loss: 1.8747 - val_acc: 0.5455\n",
      "Epoch 34/50\n",
      "32/60 [===============>..............] - ETA: 0s - loss: 0.0282 - acc: 1.0000\n",
      "Epoch 00034: val_acc did not improve from 0.59091\n",
      "60/60 [==============================] - 0s 5ms/sample - loss: 0.0564 - acc: 0.9833 - val_loss: 2.0525 - val_acc: 0.5455\n",
      "Epoch 35/50\n",
      "32/60 [===============>..............] - ETA: 0s - loss: 0.0323 - acc: 1.0000\n",
      "Epoch 00035: val_acc did not improve from 0.59091\n",
      "60/60 [==============================] - 0s 5ms/sample - loss: 0.0419 - acc: 0.9833 - val_loss: 1.8152 - val_acc: 0.5455\n",
      "Epoch 36/50\n",
      "32/60 [===============>..............] - ETA: 0s - loss: 0.0316 - acc: 1.0000\n",
      "Epoch 00036: val_acc did not improve from 0.59091\n",
      "60/60 [==============================] - 0s 5ms/sample - loss: 0.0241 - acc: 1.0000 - val_loss: 1.6515 - val_acc: 0.4091\n",
      "Epoch 37/50\n",
      "32/60 [===============>..............] - ETA: 0s - loss: 0.0184 - acc: 1.0000\n",
      "Epoch 00037: val_acc did not improve from 0.59091\n",
      "60/60 [==============================] - 0s 8ms/sample - loss: 0.0392 - acc: 0.9833 - val_loss: 1.6424 - val_acc: 0.4545\n",
      "Epoch 38/50\n",
      "32/60 [===============>..............] - ETA: 0s - loss: 0.0461 - acc: 0.9688\n",
      "Epoch 00038: val_acc did not improve from 0.59091\n",
      "60/60 [==============================] - 0s 5ms/sample - loss: 0.0340 - acc: 0.9833 - val_loss: 1.7959 - val_acc: 0.5455\n",
      "Epoch 39/50\n",
      "32/60 [===============>..............] - ETA: 0s - loss: 0.0070 - acc: 1.0000\n",
      "Epoch 00039: val_acc did not improve from 0.59091\n",
      "60/60 [==============================] - 0s 5ms/sample - loss: 0.0198 - acc: 1.0000 - val_loss: 1.9560 - val_acc: 0.5455\n",
      "Epoch 40/50\n",
      "32/60 [===============>..............] - ETA: 0s - loss: 0.0349 - acc: 1.0000\n",
      "Epoch 00040: val_acc did not improve from 0.59091\n",
      "60/60 [==============================] - 0s 6ms/sample - loss: 0.0209 - acc: 1.0000 - val_loss: 2.0678 - val_acc: 0.5455\n",
      "Epoch 41/50\n",
      "32/60 [===============>..............] - ETA: 0s - loss: 0.0322 - acc: 1.0000\n",
      "Epoch 00041: val_acc did not improve from 0.59091\n",
      "60/60 [==============================] - 0s 6ms/sample - loss: 0.0214 - acc: 1.0000 - val_loss: 2.0584 - val_acc: 0.5455\n",
      "Epoch 42/50\n",
      "32/60 [===============>..............] - ETA: 0s - loss: 0.0103 - acc: 1.0000\n",
      "Epoch 00042: val_acc did not improve from 0.59091\n",
      "60/60 [==============================] - 0s 6ms/sample - loss: 0.0155 - acc: 1.0000 - val_loss: 2.0164 - val_acc: 0.5455\n",
      "Epoch 43/50\n",
      "32/60 [===============>..............] - ETA: 0s - loss: 0.0198 - acc: 1.0000\n",
      "Epoch 00043: val_acc did not improve from 0.59091\n",
      "60/60 [==============================] - 0s 6ms/sample - loss: 0.0125 - acc: 1.0000 - val_loss: 1.9723 - val_acc: 0.4545\n",
      "Epoch 44/50\n",
      "32/60 [===============>..............] - ETA: 0s - loss: 0.0153 - acc: 1.0000\n",
      "Epoch 00044: val_acc did not improve from 0.59091\n",
      "60/60 [==============================] - 0s 5ms/sample - loss: 0.0109 - acc: 1.0000 - val_loss: 1.9753 - val_acc: 0.4545\n",
      "Epoch 45/50\n",
      "32/60 [===============>..............] - ETA: 0s - loss: 0.0044 - acc: 1.0000\n",
      "Epoch 00045: val_acc did not improve from 0.59091\n",
      "60/60 [==============================] - 0s 5ms/sample - loss: 0.0103 - acc: 1.0000 - val_loss: 2.0126 - val_acc: 0.4545\n",
      "Epoch 46/50\n",
      "32/60 [===============>..............] - ETA: 0s - loss: 0.0141 - acc: 1.0000\n",
      "Epoch 00046: val_acc did not improve from 0.59091\n",
      "60/60 [==============================] - 0s 5ms/sample - loss: 0.0096 - acc: 1.0000 - val_loss: 2.1005 - val_acc: 0.5000\n",
      "Epoch 47/50\n",
      "32/60 [===============>..............] - ETA: 0s - loss: 0.0031 - acc: 1.0000\n",
      "Epoch 00047: val_acc did not improve from 0.59091\n",
      "60/60 [==============================] - 0s 5ms/sample - loss: 0.0068 - acc: 1.0000 - val_loss: 2.1737 - val_acc: 0.5000\n",
      "Epoch 48/50\n",
      "32/60 [===============>..............] - ETA: 0s - loss: 0.0077 - acc: 1.0000\n",
      "Epoch 00048: val_acc did not improve from 0.59091\n",
      "60/60 [==============================] - 0s 5ms/sample - loss: 0.0062 - acc: 1.0000 - val_loss: 2.2253 - val_acc: 0.4545\n",
      "Epoch 49/50\n",
      "32/60 [===============>..............] - ETA: 0s - loss: 0.0059 - acc: 1.0000\n",
      "Epoch 00049: val_acc did not improve from 0.59091\n",
      "60/60 [==============================] - 0s 5ms/sample - loss: 0.0057 - acc: 1.0000 - val_loss: 2.2576 - val_acc: 0.5000\n",
      "Epoch 50/50\n",
      "32/60 [===============>..............] - ETA: 0s - loss: 0.0078 - acc: 1.0000\n",
      "Epoch 00050: val_acc did not improve from 0.59091\n",
      "60/60 [==============================] - 0s 5ms/sample - loss: 0.0051 - acc: 1.0000 - val_loss: 2.2837 - val_acc: 0.5000\n"
     ]
    }
   ],
   "source": [
    "# Set Training Parameters\n",
    "\n",
    "num_epochs = 50\n",
    "training_padded = np.array(training_padded)\n",
    "training_labels = np.array(training_labels)\n",
    "testing_padded = np.array(testing_padded)\n",
    "testing_labels = np.array(testing_labels)\n",
    "\n",
    "filepath = \"Weights/Type4.hdf5\"\n",
    "checkpoint = tf.keras.callbacks.ModelCheckpoint(filepath, monitor='val_acc', verbose=1, save_best_only=True, mode='max')\n",
    "\n",
    "history = model.fit(training_padded, training_labels, epochs=num_epochs, validation_data=(testing_padded, testing_labels), verbose=1, callbacks = [checkpoint])"
   ]
  },
  {
   "cell_type": "code",
   "execution_count": 9,
   "metadata": {},
   "outputs": [
    {
     "name": "stdout",
     "output_type": "stream",
     "text": [
      "19.733333333333334\n"
     ]
    }
   ],
   "source": [
    "avg = 0\n",
    "\n",
    "for i in range(len(training_sequences)):\n",
    "    avg = avg + len(training_sequences[i])\n",
    "    \n",
    "print(avg/(len(training_sequences)))"
   ]
  },
  {
   "cell_type": "code",
   "execution_count": 10,
   "metadata": {},
   "outputs": [
    {
     "name": "stdout",
     "output_type": "stream",
     "text": [
      "46\n",
      "17\n",
      "We rely on your consent to use your User Personal Information under the following circumstances: when you fill out the information in your user profile; when you decide to participate in a GitHub training, research project, beta program, or survey; and for marketing purposes, where applicable.\n",
      "\n",
      "\n",
      "You cannot edit or delete the answers that you post.\n",
      "\n"
     ]
    },
    {
     "data": {
      "text/plain": [
       "''"
      ]
     },
     "execution_count": 10,
     "metadata": {},
     "output_type": "execute_result"
    }
   ],
   "source": [
    "# Finding the longest sentence overall (Ignore the error)\n",
    "\n",
    "mini = 0\n",
    "index = 0\n",
    "indextest = 0\n",
    "for i in range(len(training_sequences)):\n",
    "    if len(training_sequences[i]) > mini:\n",
    "        mini = len(training_sequences[i])\n",
    "        index = i\n",
    "        \n",
    "for i in range(len(testing_sequences)):\n",
    "    if len(testing_sequences[i]) > mini:\n",
    "        mini = len(testing_sequences[i])\n",
    "        indextest = i\n",
    "\n",
    "print(mini)\n",
    "print(index)\n",
    "print(training_sentences[index])\n",
    "print(\"\\n\")\n",
    "print(testing_sentences[indextest])"
   ]
  },
  {
   "cell_type": "code",
   "execution_count": 11,
   "metadata": {},
   "outputs": [],
   "source": [
    "# if input() == \"yes\":\n",
    "#     model.save(\"Weights/Type4_LSTM.h5\")"
   ]
  },
  {
   "cell_type": "code",
   "execution_count": 12,
   "metadata": {},
   "outputs": [
    {
     "name": "stdout",
     "output_type": "stream",
     "text": [
      "22/22 - 0s - loss: 0.6912 - acc: 0.5909\n",
      "Restored model, accuracy: 59.09%\n"
     ]
    }
   ],
   "source": [
    "# Load the previously saved weights\n",
    "model = tf.keras.models.load_model(\"Weights/Type4.hdf5\")\n",
    "# Re-evaluate the model\n",
    "loss, acc = model.evaluate(testing_padded, testing_labels, verbose=2)\n",
    "print(\"Restored model, accuracy: {:5.2f}%\".format(100*acc))"
   ]
  },
  {
   "cell_type": "code",
   "execution_count": 13,
   "metadata": {},
   "outputs": [
    {
     "name": "stdout",
     "output_type": "stream",
     "text": [
      "no\n"
     ]
    }
   ],
   "source": [
    "if input() == \"yes\":\n",
    "    model.save(\"Weights/Type4_{:5.2f}.hdf5\".format(100 * acc))"
   ]
  }
 ],
 "metadata": {
  "kernelspec": {
   "display_name": "Python 3",
   "language": "python",
   "name": "python3"
  },
  "language_info": {
   "codemirror_mode": {
    "name": "ipython",
    "version": 3
   },
   "file_extension": ".py",
   "mimetype": "text/x-python",
   "name": "python",
   "nbconvert_exporter": "python",
   "pygments_lexer": "ipython3",
   "version": "3.7.4"
  }
 },
 "nbformat": 4,
 "nbformat_minor": 4
}
