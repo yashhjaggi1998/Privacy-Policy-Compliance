{
 "cells": [
  {
   "cell_type": "code",
   "execution_count": 1,
   "metadata": {},
   "outputs": [
    {
     "name": "stderr",
     "output_type": "stream",
     "text": [
      "Using TensorFlow backend.\n"
     ]
    },
    {
     "data": {
      "text/plain": [
       "[PhysicalDevice(name='/physical_device:GPU:0', device_type='GPU')]"
      ]
     },
     "execution_count": 1,
     "metadata": {},
     "output_type": "execute_result"
    }
   ],
   "source": [
    "import numpy as np\n",
    "import tensorflow as tf\n",
    "from tensorflow.keras.preprocessing.text import Tokenizer\n",
    "from tensorflow.keras.preprocessing.sequence import pad_sequences\n",
    "from sklearn.preprocessing import LabelEncoder\n",
    "from keras.utils import np_utils\n",
    "\n",
    "tf.config.experimental.list_physical_devices('GPU')"
   ]
  },
  {
   "cell_type": "code",
   "execution_count": 2,
   "metadata": {},
   "outputs": [],
   "source": [
    "# Hyperparameters\n",
    "\n",
    "vocab_size = 700\n",
    "embedding_dim = 32\n",
    "max_length = 60\n",
    "trunc_type='post'\n",
    "padding_type='post'\n",
    "oov_tok = \"<OOV>\""
   ]
  },
  {
   "cell_type": "code",
   "execution_count": 3,
   "metadata": {},
   "outputs": [
    {
     "name": "stdout",
     "output_type": "stream",
     "text": [
      "(162,)\n",
      "(162,)\n",
      "(55,)\n",
      "(55,)\n"
     ]
    }
   ],
   "source": [
    "# Load Data\n",
    "\n",
    "training_sentences = np.load(\"Datasets/Type2/training_sentences.npy\")\n",
    "testing_sentences = np.load(\"Datasets/Type2/testing_sentences.npy\")\n",
    "training_labels = np.load(\"Datasets/Type2/training_labels.npy\")\n",
    "testing_labels = np.load(\"Datasets/Type2/testing_labels.npy\")\n",
    "\n",
    "print(training_sentences.shape)\n",
    "print(training_labels.shape)\n",
    "print(testing_sentences.shape)\n",
    "print(testing_labels.shape)"
   ]
  },
  {
   "cell_type": "code",
   "execution_count": 4,
   "metadata": {},
   "outputs": [],
   "source": [
    "# encode label values as integers\n",
    "\n",
    "encoder = LabelEncoder()\n",
    "encoder.fit(training_labels)\n",
    "# convert integers to dummy variables (i.e. one hot encoded)\n",
    "training_labels = np_utils.to_categorical(encoder.transform(training_labels))\n",
    "testing_labels = np_utils.to_categorical(encoder.transform(testing_labels))"
   ]
  },
  {
   "cell_type": "code",
   "execution_count": 5,
   "metadata": {},
   "outputs": [
    {
     "name": "stdout",
     "output_type": "stream",
     "text": [
      "{'<OOV>': 1, 'information': 2, 'we': 3, 'to': 4, 'and': 5, 'your': 6, 'or': 7, 'the': 8, 'of': 9, 'with': 10, 'our': 11, 'share': 12, 'third': 13, 'personal': 14, 'will': 15, 'that': 16, 'may': 17, 'as': 18, 'other': 19, 'in': 20, 'you': 21, 'on': 22, 'not': 23, 'party': 24, 'data': 25, 'use': 26, 'a': 27, 'such': 28, 'providers': 29, 'if': 30, 'consent': 31, 'user': 32, 'for': 33, 'do': 34, 'service': 35, 'be': 36, 'advertisers': 37, 'platform': 38, 'about': 39, 'parties': 40, 'is': 41, 'any': 42, 'services': 43, 'github': 44, 'content': 45, 'by': 46, 'us': 47, 'also': 48, 'privacy': 49, 'reddit': 50, 'business': 51, 'partners': 52, 'their': 53, 'companies': 54, 'analytics': 55, 'users': 56, 'who': 57, 'sell': 58, 'cookies': 59, 'collect': 60, 'this': 61, 'it': 62, 'provide': 63, 'law': 64, 'including': 65, 'geeksforgeeks': 66, 'assets': 67, 'have': 68, 'transfer': 69, 'ad': 70, 'partner': 71, 'social': 72, 'affiliates': 73, 'ads': 74, 'application': 75, 'measurement': 76, 'disclose': 77, 'google': 78, 'website': 79, 'help': 80, 'corporate': 81, 'applicable': 82, 'purposes': 83, 'all': 84, 'access': 85, 'advertising': 86, 'device': 87, 'sale': 88, 'see': 89, 'payment': 90, 'activity': 91, 'event': 92, 'allow': 93, 'time': 94, 'policy': 95, 'how': 96, 'without': 97, 'certain': 98, 'online': 99, 'so': 100, 'well': 101, 'from': 102, 'are': 103, 'terms': 104, 'these': 105, 'part': 106, 'merger': 107, 'similar': 108, 'subsidiaries': 109, 'under': 110, 'protection': 111, 'those': 112, 'public': 113, 'group': 114, 'processing': 115, 'bankruptcy': 116, 'an': 117, 'network': 118, 'aggregated': 119, 'personally': 120, 'others': 121, 'outside': 122, 'over': 123, 'they': 124, 'relevant': 125, 'security': 126, 'acquisition': 127, 'ownership': 128, 'shared': 129, 'ensure': 130, 'contact': 131, 'customers': 132, 'required': 133, 'can': 134, 'process': 135, 'perform': 136, 'rights': 137, 'enforcement': 138, 'browser': 139, 'eu': 140, 'swiss': 141, 'were': 142, 'acquired': 143, 'transferred': 144, 'publishers': 145, 'quora': 146, 'subject': 147, 'which': 148, 'media': 149, 'sites': 150, 'respond': 151, 'disclosure': 152, 'necessary': 153, 'interests': 154, 'organization': 155, 'customer': 156, 'agreements': 157, 'technologies': 158, 'confidentiality': 159, 'before': 160, 'provider': 161, 'transaction': 162, 'search': 163, 'own': 164, 'marketing': 165, 'legal': 166, 'id': 167, 'inc': 168, 'when': 169, 'order': 170, 'reports': 171, 'receive': 172, 'upon': 173, 'settings': 174, 'buy': 175, 'permit': 176, 'networks': 177, 'apps': 178, 'baidu': 179, 'usage': 180, 'associated': 181, 'only': 182, 'compilations': 183, 'publicly': 184, 'email': 185, 'among': 186, 'anyone': 187, 'above': 188, 'involved': 189, 'accessed': 190, 'comply': 191, 'then': 192, 'research': 193, 'organizations': 194, 'compile': 195, 'does': 196, 'hosting': 197, 'consultants': 198, 'support': 199, 'believe': 200, 'response': 201, 'request': 202, 'but': 203, 'them': 204, 'track': 205, 'processes': 206, 'behalf': 207, 'storage': 208, 'unlikely': 209, 'out': 210, 'performance': 211, 'show': 212, 'dependent': 213, 'post': 214, 'identifying': 215, 'collectively': 216, 'offerings': 217, 'conferences': 218, 'events': 219, 'wel': 220, 'good': 221, 'faith': 222, 'reasonably': 223, 'products': 224, 'websites': 225, 'serve': 226, 'between': 227, 'parents': 228, 'common': 229, 'control': 230, 'collected': 231, 'entities': 232, 'same': 233, 'notice': 234, 'choose': 235, 'coins': 236, 'names': 237, 'successfully': 238, 'reached': 239, 'campaigns': 240, 'gathered': 241, 'individual': 242, 'people': 243, 'name': 244, 'link': 245, 'change': 246, 'happens': 247, 'preserve': 248, 'notify': 249, 'based': 250, 'identify': 251, 'credit': 252, 'account': 253, 'processors': 254, 'auditors': 255, 'advisors': 256, 'assist': 257, 'providing': 258, 'identifiable': 259, 'like': 260, 'developers': 261, 'holders': 262, 'ip': 263, 'parent': 264, 'subsidiary': 265, 'affiliate': 266, 'deliver': 267, 'details': 268, 'agencies': 269, 'court': 270, 'some': 271, 'browsing': 272, \"users'\": 273, 'specific': 274, 'solely': 275, 'liable': 276, 'violation': 277, 'shield': 278, 'principles': 279, 'engine': 280, 'government': 281, 'protect': 282, 'united': 283, 'states': 284, 'tiktok': 285, 'moreover': 286, 'substantially': 287, 'its': 288, 'goes': 289, 'enters': 290, 'would': 291, 'one': 292, 'number': 293, 'unique': 294, 'statement': 295, 'ask': 296, 'explicit': 297, 'sensitive': 298, 'authorize': 299, 'play': 300, 'display': 301, 'targeted': 302, 'adverts': 303, 'has': 304, 'extent': 305, 'provided': 306, 'particular': 307, 'javascript': 308, 'clear': 309, 'gifs': 310, 'address': 311, 'restructuring': 312, 'rent': 313, 'sharing': 314, 'treatment': 315, 'section': 316, 'while': 317, 'at': 318, 'levels': 319, 'continue': 320, 'give': 321, 'affected': 322, 'becomes': 323, 'different': 324, 'facilitate': 325, 'visible': 326, 'friends': 327, 'followers': 328, 'units': 329, 'could': 330, 'reveal': 331, 'enforce': 332, 'defend': 333, 'claims': 334, 'businesses': 335, 'appropriate': 336, 'likewise': 337, 'app': 338, 'token': 339, 'referring': 340, 'url': 341, 'however': 342, 'archives': 343, 'facing': 344, 'made': 345, 'prevent': 346, 'addresses': 347, 'biometric': 348, 'cannot': 349, 'whose': 350, 'accordance': 351, 'where': 352, 'pursuant': 353, 'legally': 354, 'enabled': 355, 'dnt': 356, 'supports': 357, 'parts': 358, 'though': 359, 'than': 360, 'set': 361, 'forth': 362, 'surely': 363, 'members': 364, 'improving': 365, 'optimising': 366, 'preventing': 367, 'illegal': 368, 'supporting': 369, 'rely': 370, \"we'll\": 371, 'allows': 372, 'non': 373, 'been': 374, 'authorities': 375, 'countries': 376, 'release': 377, 'property': 378, 'safety': 379, 'moderation': 380, 'jurisdictions': 381, 'cloud': 382, 'need': 383, 'computer': 384, 'brokers': 385, 'vendors': 386, 'policies': 387, 'using': 388, 'includes': 389, 'exchanging': 390, 'fraud': 391, 'risk': 392, 'reduction': 393, 'able': 394, 'via': 395, 'pixels': 396, 'aggregate': 397, 'statistics': 398, 'metrics': 399, 'views': 400, 'demographics': 401, 'saw': 402, 'conversion': 403, 'rates': 404, 'date': 405, 'separate': 406, 'many': 407, 'viewed': 408, 'clicked': 409, 'advertisement': 410, 'yours': 411, 'whether': 412, 'result': 413, 'liquidation': 414, 'otherwise': 415, 'case': 416, 'prospective': 417, 'seller': 418, 'buyer': 419, 'belief': 420, 'preservation': 421, 'cfgbhjkml': 422, 'chosen': 423, 'personalized': 424, 'member': 425, 'username': 426, 'owner': 427, 'administrator': 428, 'agreed': 429, 'investigate': 430, 'incident': 431, 'affects': 432, 'compromises': 433, 'web': 434, 'beacons': 435, 'flash': 436, 'lsos': 437, 'tracking': 438, 'measure': 439, 'effectiveness': 440, 'personalize': 441, 'want': 442, 'appear': 443, 'please': 444, 'make': 445, 'available': 446, 'sure': 447, 'configure': 448, 'private': 449, 'profile': 450, 'git': 451, 'commit': 452, 'neither': 453, 'nor': 454, 'exception': 455, 'rycftvgbhyknjlmk': 456, 'l': 457, \"'\": 458, 'after': 459, 'letting': 460, 'know': 461, 'what': 462, 'whom': 463, 'why': 464, 'transferring': 465, 'individuals': 466, 'india': 467, 'offer': 468, 'least': 469, 'adhered': 470, 'regardless': 471, 'engines': 472, 'aggregators': 473, 'news': 474, 'exercise': 475, 'interest': 476, 'trusted': 477, 'persons': 478, 'instructions': 479, 'compliance': 480, 'measures': 481, 'monetary': 482, 'consideration': 483, 'enable': 484, 'correct': 485, 'value': 486, 'once': 487, 'de': 488, 'identified': 489, \"it's\": 490, 'imminent': 491, 'serious': 492, 'bodily': 493, 'harm': 494, 'person': 495, 'better': 496, 'understand': 497, 'regulation': 498, 'governmental': 499, 'limited': 500, 'meeting': 501, 'national': 502, 'requirements': 503, 'areas': 504, 'signed': 505, 'limit': 506, 'type': 507, 'purpose': 508, 'regulators': 509, 'binding': 510, 'features': 511, 'receiving': 512, 'honor': 513, 'promises': 514, 'things': 515, 'suggestions': 516, 'promote': 517, 'customize': 518, 'experience': 519, 'merge': 520, 'acknowledge': 521, 'transfers': 522, 'occur': 523, 'acquirer': 524, 'further': 525, 'direction': 526, 'connection': 527, 'substantial': 528, 'consolidation': 529, 'asset': 530, 'attempt': 531, 'prior': 532, 'disclosing': 533, 'anonymized': 534, 'used': 535, 'organisations': 536, 'legitimate': 537, 'eea': 538, 'commission': 539, 'model': 540, 'contracts': 541, 'i': 542, 'e': 543, 'categories': 544, 'listed': 545, 'operations': 546, 'fulfillment': 547, 'database': 548, 'maintenance': 549, 'administering': 550, 'contests': 551, 'special': 552, 'offers': 553, 'technology': 554, 'deliveries': 555, 'deployment': 556, 'disaster': 557, 'recovery': 558, 'optimization': 559, 'bodies': 560, 'apply': 561, 'conditions': 562, 'employees': 563, 'unless': 564, 'prove': 565, 'responsible': 566, 'giving': 567, 'rise': 568, 'damage': 569, 'analyze': 570, 'traffic': 571, 'y': 572, 'european': 573, 'union': 574, 'take': 575, 'steps': 576, 'receives': 577, 'adequate': 578, 'level': 579, 'through': 580, 'written': 581, 'valid': 582, 'subpoena': 583, 'warrant': 584, 'obligations': 585, 'large': 586, 'don': 587, 'dvgasjbdkml': 588, 'dart': 589, 'cookie': 590, 'enables': 591, 'site': 592, 'visitors': 593, 'visit': 594, 'internet': 595, 'related': 596, 'delivered': 597, 'actual': 598, 'equivalent': 599, 'home': 600, 'jurisdiction': 601, 'described': 602, 'below': 603, 'agents': 604, 'employ': 605, 'tasks': 606, 'sent': 607, 'mobile': 608, 'identifiers': 609, 'known': 610, 'scrape': 611, 'subpoenas': 612, 'orders': 613, 'requests': 614, 'inquiries': 615, 'additionally': 616, 'must': 617, 'sign': 618, 'require': 619, 'laws': 620, 'except': 621, 'notified': 622, 'api': 623, 'pixel': 624, 'tags': 625, 'local': 626, 'log': 627, 'files': 628, 'mechanisms': 629, 'automatically': 630, 'record': 631, 'activities': 632, 'across': 633, 'ticketing': 634, 'transmission': 635, 'evaluate': 636, 'statistical': 637, 'improve': 638, \"don't\": 639, 'care': 640, 'optimisation': 641, 'improvement': 642, 'carry': 643, 'work': 644, 'vendor': 645, 'uses': 646, 'purchase': 647, 'facebook': 648, 'twitter': 649, 'login': 650, 'connections': 651, 'shares': 652}\n"
     ]
    }
   ],
   "source": [
    "# Initialize Tokenizer\n",
    "\n",
    "tokenizer = Tokenizer(num_words=vocab_size, oov_token=oov_tok)\n",
    "tokenizer.fit_on_texts(training_sentences)\n",
    "word_index = tokenizer.word_index\n",
    "print(word_index)"
   ]
  },
  {
   "cell_type": "code",
   "execution_count": 6,
   "metadata": {},
   "outputs": [],
   "source": [
    "# Tokenize the sentences\n",
    "\n",
    "training_sequences = tokenizer.texts_to_sequences(training_sentences)\n",
    "training_padded = pad_sequences(training_sequences, maxlen=max_length, padding=padding_type, truncating=trunc_type)\n",
    "\n",
    "testing_sequences = tokenizer.texts_to_sequences(testing_sentences)\n",
    "testing_padded = pad_sequences(testing_sequences, maxlen=max_length, padding=padding_type, truncating=trunc_type)"
   ]
  },
  {
   "cell_type": "code",
   "execution_count": 7,
   "metadata": {},
   "outputs": [
    {
     "name": "stdout",
     "output_type": "stream",
     "text": [
      "WARNING:tensorflow:From C:\\Users\\Pranav\\.conda\\envs\\py37\\lib\\site-packages\\tensorflow\\python\\keras\\initializers.py:119: calling RandomUniform.__init__ (from tensorflow.python.ops.init_ops) with dtype is deprecated and will be removed in a future version.\n",
      "Instructions for updating:\n",
      "Call initializer instance with the dtype argument instead of passing it to the constructor\n",
      "WARNING:tensorflow:From C:\\Users\\Pranav\\.conda\\envs\\py37\\lib\\site-packages\\tensorflow\\python\\ops\\init_ops.py:1251: calling VarianceScaling.__init__ (from tensorflow.python.ops.init_ops) with dtype is deprecated and will be removed in a future version.\n",
      "Instructions for updating:\n",
      "Call initializer instance with the dtype argument instead of passing it to the constructor\n",
      "WARNING:tensorflow:From C:\\Users\\Pranav\\.conda\\envs\\py37\\lib\\site-packages\\tensorflow\\python\\ops\\init_ops.py:97: calling GlorotUniform.__init__ (from tensorflow.python.ops.init_ops) with dtype is deprecated and will be removed in a future version.\n",
      "Instructions for updating:\n",
      "Call initializer instance with the dtype argument instead of passing it to the constructor\n",
      "WARNING:tensorflow:From C:\\Users\\Pranav\\.conda\\envs\\py37\\lib\\site-packages\\tensorflow\\python\\ops\\init_ops.py:97: calling Orthogonal.__init__ (from tensorflow.python.ops.init_ops) with dtype is deprecated and will be removed in a future version.\n",
      "Instructions for updating:\n",
      "Call initializer instance with the dtype argument instead of passing it to the constructor\n",
      "WARNING:tensorflow:From C:\\Users\\Pranav\\.conda\\envs\\py37\\lib\\site-packages\\tensorflow\\python\\ops\\init_ops.py:97: calling Zeros.__init__ (from tensorflow.python.ops.init_ops) with dtype is deprecated and will be removed in a future version.\n",
      "Instructions for updating:\n",
      "Call initializer instance with the dtype argument instead of passing it to the constructor\n",
      "Model: \"sequential\"\n",
      "_________________________________________________________________\n",
      "Layer (type)                 Output Shape              Param #   \n",
      "=================================================================\n",
      "embedding (Embedding)        (None, 60, 32)            22400     \n",
      "_________________________________________________________________\n",
      "bidirectional (Bidirectional (None, 60, 128)           49664     \n",
      "_________________________________________________________________\n",
      "bidirectional_1 (Bidirection (None, 128)               98816     \n",
      "_________________________________________________________________\n",
      "dense (Dense)                (None, 64)                8256      \n",
      "_________________________________________________________________\n",
      "dense_1 (Dense)              (None, 64)                4160      \n",
      "_________________________________________________________________\n",
      "dense_2 (Dense)              (None, 3)                 195       \n",
      "=================================================================\n",
      "Total params: 183,491\n",
      "Trainable params: 183,491\n",
      "Non-trainable params: 0\n",
      "_________________________________________________________________\n"
     ]
    }
   ],
   "source": [
    "# Sequential LSTM Model\n",
    "\n",
    "model = tf.keras.Sequential([\n",
    "    tf.keras.layers.Embedding(vocab_size, embedding_dim, input_length=max_length),\n",
    "    tf.keras.layers.Bidirectional(tf.keras.layers.LSTM(64, return_sequences = True)),    \n",
    "    tf.keras.layers.Bidirectional(tf.keras.layers.LSTM(64)),\n",
    "    tf.keras.layers.Dense(64, activation='relu'),\n",
    "    tf.keras.layers.Dense(64, activation='relu'),\n",
    "    tf.keras.layers.Dense(3, activation='softmax')\n",
    "])\n",
    "model.compile(loss='categorical_crossentropy',optimizer='adam',metrics=['accuracy'])\n",
    "model.summary()"
   ]
  },
  {
   "cell_type": "code",
   "execution_count": 8,
   "metadata": {
    "scrolled": false
   },
   "outputs": [],
   "source": [
    "# Set Training Parameters\n",
    "\n",
    "num_epochs = 50\n",
    "training_padded = np.array(training_padded)\n",
    "training_labels = np.array(training_labels)\n",
    "testing_padded = np.array(testing_padded)\n",
    "testing_labels = np.array(testing_labels)\n",
    "\n",
    "filepath = \"Weights/Type2.hdf5\"\n",
    "checkpoint = tf.keras.callbacks.ModelCheckpoint(filepath, monitor='val_acc', verbose=1, save_best_only=True, mode='max')\n",
    "\n",
    "# history = model.fit(training_padded, training_labels, epochs=num_epochs, validation_data=(testing_padded, testing_labels), verbose=1, callbacks = [checkpoint])"
   ]
  },
  {
   "cell_type": "code",
   "execution_count": 9,
   "metadata": {},
   "outputs": [
    {
     "name": "stdout",
     "output_type": "stream",
     "text": [
      "26.808641975308642\n"
     ]
    }
   ],
   "source": [
    "avg = 0\n",
    "\n",
    "for i in range(len(training_sequences)):\n",
    "    avg = avg + len(training_sequences[i])\n",
    "    \n",
    "print(avg/(len(training_sequences)))"
   ]
  },
  {
   "cell_type": "code",
   "execution_count": 10,
   "metadata": {},
   "outputs": [
    {
     "name": "stdout",
     "output_type": "stream",
     "text": [
      "100\n",
      "23\n",
      "We share your User Personal Information, if you consent, after letting you know what information will be shared, with whom, and why.\n",
      "\n",
      "\n",
      "If you are located in the European Union or other regions with laws governing data collection and use that may differ from Chinese or U.S. law, please note that we may transfer information, including personal information, to a country and jurisdiction that does not have the same data protection laws as your jurisdiction, and you consent to the transfer of information to China or the U.S. or any other country in which Company or its parent, subsidiaries, affiliates or service providers maintain facilities and the use and disclosure of information about you as described in this Privacy Policy.\n"
     ]
    }
   ],
   "source": [
    "mini = 0\n",
    "index = 0\n",
    "for i in range(len(training_sequences)):\n",
    "    if len(training_sequences[i]) > mini:\n",
    "        mini = len(training_sequences[i])\n",
    "        index = i\n",
    "        \n",
    "for i in range(len(testing_sequences)):\n",
    "    if len(testing_sequences[i]) > mini:\n",
    "        mini = len(testing_sequences[i])\n",
    "        index = i\n",
    "\n",
    "print(mini)\n",
    "print(index)\n",
    "print(training_sentences[index])\n",
    "print(\"\\n\")\n",
    "print(testing_sentences[index])"
   ]
  },
  {
   "cell_type": "code",
   "execution_count": 11,
   "metadata": {},
   "outputs": [],
   "source": [
    "# if input() == \"yes\":\n",
    "#     model.save(\"Weights/Type2_LSTM.h5\")"
   ]
  },
  {
   "cell_type": "code",
   "execution_count": 12,
   "metadata": {},
   "outputs": [
    {
     "name": "stdout",
     "output_type": "stream",
     "text": [
      "WARNING:tensorflow:From C:\\Users\\Pranav\\.conda\\envs\\py37\\lib\\site-packages\\tensorflow\\python\\ops\\math_grad.py:1250: add_dispatch_support.<locals>.wrapper (from tensorflow.python.ops.array_ops) is deprecated and will be removed in a future version.\n",
      "Instructions for updating:\n",
      "Use tf.where in 2.0, which has the same broadcast rule as np.where\n",
      "55/55 - 1s - loss: 2.5693 - acc: 0.4909\n",
      "Restored model, accuracy: 49.09%\n"
     ]
    }
   ],
   "source": [
    "# Load the previously saved weights\n",
    "model = tf.keras.models.load_model(\"Weights/Type2.hdf5\")\n",
    "# Re-evaluate the model\n",
    "loss, acc = model.evaluate(testing_padded, testing_labels, verbose=2)\n",
    "print(\"Restored model, accuracy: {:5.2f}%\".format(100*acc))"
   ]
  },
  {
   "cell_type": "code",
   "execution_count": 14,
   "metadata": {},
   "outputs": [
    {
     "name": "stdout",
     "output_type": "stream",
     "text": [
      "yes\n"
     ]
    }
   ],
   "source": [
    "if input() == \"yes\":\n",
    "    model.save(\"Weights/Type2_{:5.2f}.hdf5\".format(100 * acc))"
   ]
  }
 ],
 "metadata": {
  "kernelspec": {
   "display_name": "Python 3",
   "language": "python",
   "name": "python3"
  },
  "language_info": {
   "codemirror_mode": {
    "name": "ipython",
    "version": 3
   },
   "file_extension": ".py",
   "mimetype": "text/x-python",
   "name": "python",
   "nbconvert_exporter": "python",
   "pygments_lexer": "ipython3",
   "version": "3.7.4"
  }
 },
 "nbformat": 4,
 "nbformat_minor": 4
}
