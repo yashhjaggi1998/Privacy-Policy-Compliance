{
 "cells": [
  {
   "cell_type": "code",
   "execution_count": 1,
   "metadata": {},
   "outputs": [
    {
     "name": "stderr",
     "output_type": "stream",
     "text": [
      "Using TensorFlow backend.\n"
     ]
    },
    {
     "data": {
      "text/plain": [
       "[PhysicalDevice(name='/physical_device:GPU:0', device_type='GPU')]"
      ]
     },
     "execution_count": 1,
     "metadata": {},
     "output_type": "execute_result"
    }
   ],
   "source": [
    "import numpy as np\n",
    "import tensorflow as tf\n",
    "from tensorflow.keras.preprocessing.text import Tokenizer\n",
    "from tensorflow.keras.preprocessing.sequence import pad_sequences\n",
    "from sklearn.preprocessing import LabelEncoder\n",
    "from keras.utils import np_utils\n",
    "\n",
    "tf.config.experimental.list_physical_devices('GPU')"
   ]
  },
  {
   "cell_type": "code",
   "execution_count": 2,
   "metadata": {},
   "outputs": [],
   "source": [
    "# Hyperparameters\n",
    "\n",
    "vocab_size = 600\n",
    "embedding_dim = 128\n",
    "max_length = 120\n",
    "trunc_type='post'\n",
    "padding_type='post'\n",
    "oov_tok = \"<OOV>\""
   ]
  },
  {
   "cell_type": "code",
   "execution_count": 3,
   "metadata": {},
   "outputs": [
    {
     "name": "stdout",
     "output_type": "stream",
     "text": [
      "(171,)\n",
      "(171,)\n",
      "(58,)\n",
      "(58,)\n"
     ]
    }
   ],
   "source": [
    "# Load Data\n",
    "\n",
    "training_sentences = np.load(\"Datasets/Type1/training_sentences.npy\")\n",
    "testing_sentences = np.load(\"Datasets/Type1/testing_sentences.npy\")\n",
    "training_labels = np.load(\"Datasets/Type1/training_labels.npy\")\n",
    "testing_labels = np.load(\"Datasets/Type1/testing_labels.npy\")\n",
    "\n",
    "print(training_sentences.shape)\n",
    "print(training_labels.shape)\n",
    "print(testing_sentences.shape)\n",
    "print(testing_labels.shape)"
   ]
  },
  {
   "cell_type": "code",
   "execution_count": 4,
   "metadata": {},
   "outputs": [],
   "source": [
    "# encode label values as integers\n",
    "\n",
    "encoder = LabelEncoder()\n",
    "encoder.fit(training_labels)\n",
    "# convert integers to dummy variables (i.e. one hot encoded)\n",
    "training_labels = np_utils.to_categorical(encoder.transform(training_labels))\n",
    "testing_labels = np_utils.to_categorical(encoder.transform(testing_labels))"
   ]
  },
  {
   "cell_type": "code",
   "execution_count": 5,
   "metadata": {},
   "outputs": [
    {
     "name": "stdout",
     "output_type": "stream",
     "text": [
      "{'<OOV>': 1, 'your': 2, 'and': 3, 'information': 4, 'you': 5, 'we': 6, 'the': 7, 'to': 8, 'collect': 9, 'or': 10, 'from': 11, 'about': 12, 'use': 13, 'platform': 14, 'of': 15, 'device': 16, 'with': 17, 'as': 18, 'services': 19, 'our': 20, 'will': 21, 'other': 22, 'including': 23, 'in': 24, 'may': 25, 'when': 26, 'if': 27, 'not': 28, 'third': 29, 'mobile': 30, 'us': 31, 'address': 32, 'a': 33, 'such': 34, 'also': 35, 'on': 36, 'that': 37, 'for': 38, 'account': 39, 'provide': 40, 'using': 41, 'contacts': 42, 'content': 43, 'access': 44, 'data': 45, 'an': 46, 'user': 47, 'receive': 48, 'location': 49, 'party': 50, 'personal': 51, 'email': 52, 'browser': 53, 'network': 54, 'phone': 55, 'users': 56, 'social': 57, 'baidu': 58, 'parties': 59, 'contact': 60, 'through': 61, 'any': 62, 'are': 63, 'do': 64, 'facebook': 65, 'automatically': 66, 'certain': 67, 'ip': 68, 'have': 69, 'which': 70, 'like': 71, 'quora': 72, 'providers': 73, 'products': 74, 'github': 75, 'permission': 76, 'system': 77, 'names': 78, 'google': 79, 'store': 80, 'profile': 81, 'allow': 82, 'cookies': 83, 'choose': 84, 'process': 85, 'advertising': 86, 'unique': 87, 'product': 88, 'partners': 89, 'time': 90, 'app': 91, 'these': 92, 'is': 93, 'sources': 94, 'share': 95, 'by': 96, 'service': 97, 'public': 98, 'without': 99, 'friends': 100, 'create': 101, 'online': 102, 'type': 103, 'language': 104, 'order': 105, 'consent': 106, 'interact': 107, 'well': 108, 'id': 109, 'model': 110, 'list': 111, 'youe': 112, 'media': 113, 'carrier': 114, 'name': 115, 'this': 116, 'stored': 117, 'available': 118, 'send': 119, 'identifiers': 120, 'help': 121, 'gps': 122, 'features': 123, 'usage': 124, 'screen': 125, 'operating': 126, 'log': 127, 'find': 128, 'regarding': 129, 'book': 130, 'apps': 131, 'so': 132, 'upload': 133, 'identifier': 134, 'secure': 135, 'contained': 136, 'messages': 137, 'application': 138, 'business': 139, 'advertisers': 140, 'ad': 141, 'zone': 142, 'resolution': 143, 'file': 144, 'storage': 145, 'browsing': 146, 'activities': 147, 'sites': 148, 'related': 149, 'visit': 150, 'only': 151, 'numbers': 152, 'signed': 153, 'purposes': 154, 'website': 155, 'computer': 156, 'technical': 157, 'logs': 158, 'publicly': 159, 'combine': 160, 'username': 161, 'security': 162, 'ads': 163, 'understand': 164, 'global': 165, 'used': 166, 'keep': 167, 'across': 168, 'applicable': 169, 'addresses': 170, 'interest': 171, 'setting': 172, 'local': 173, 'record': 174, 'activity': 175, 'most': 176, 'below': 177, 'necessary': 178, 'it': 179, 'improve': 180, 'websites': 181, 'can': 182, 'existing': 183, 'profiles': 184, 'analytics': 185, 'twitter': 186, 'person': 187, 'them': 188, 'connection': 189, 'even': 190, 'might': 191, 'does': 192, 'determine': 193, 'permit': 194, 'behavioural': 195, 'some': 196, 'password': 197, 'processing': 198, 'search': 199, 'offer': 200, 'who': 201, 'potential': 202, 'against': 203, 'their': 204, 'positioning': 205, 'how': 206, 'personalize': 207, 'experience': 208, 'connect': 209, 'technologies': 210, 'cookie': 211, 'preferences': 212, 'visitors': 213, 'visitor': 214, 'legal': 215, 'demographic': 216, 'types': 217, 'patterns': 218, 'clear': 219, 'gifs': 220, 'pixel': 221, 'tags': 222, 'internet': 223, 'things': 224, 'helps': 225, 'download': 226, 'creating': 227, 'number': 228, 'example': 229, 'operate': 230, 'additional': 231, 'date': 232, 'specific': 233, 'sign': 234, 'up': 235, 'customize': 236, 'page': 237, 'biometric': 238, 'web': 239, 'either': 240, 'reddit': 241, 'servers': 242, 'updates': 243, 'credit': 244, 'card': 245, 'payment': 246, 'again': 247, 'future': 248, 'further': 249, 'opportunities': 250, 'purchase': 251, 'networks': 252, 'provides': 253, 'requested': 254, 'referring': 255, 'urls': 256, 'register': 257, 'photo': 258, 'collected': 259, 'terms': 260, 'results': 261, 'need': 262, 'directly': 263, 'individuals': 264, 'identify': 265, 'marketing': 266, 'protect': 267, 'abuse': 268, 'take': 269, 'case': 270, 'where': 271, 'similar': 272, 'settings': 273, 'pages': 274, 'keystroke': 275, 'rhythms': 276, 'javascript': 277, 'files': 278, 'mechanisms': 279, 'geolocation': 280, 'sends': 281, 'requests': 282, 'better': 283, 'more': 284, 'people': 285, 'youtube': 286, 'videos': 287, 'described': 288, 'history': 289, 'viewed': 290, 'defined': 291, 'video': 292, 'fraud': 293, 'make': 294, 'associated': 295, 'billing': 296, 'paid': 297, 'amount': 298, 'develop': 299, 'match': 300, 'bluetooth': 301, 'comments': 302, 'give': 303, 'link': 304, 'relation': 305, 'message': 306, 'customer': 307, 'personalized': 308, 'accounts': 309, 'creations': 310, 'invite': 311, 'try': 312, 'pixels': 313, 'buttons': 314, 'facial': 315, 'technology': 316, 'each': 317, 'various': 318, 'within': 319, \"telephone's\": 320, 'own': 321, 'common': 322, 'hash': 323, 'natural': 324, 'concerning': 325, 'others': 326, 'they': 327, 'matching': 328, 'stack': 329, 'overflow': 330, 'receives': 331, 'records': 332, 'details': 333, 'said': 334, 'okay': 335, 'android': 336, 'periodically': 337, 'aren': 338, 'paypal': 339, 'but': 340, 'processor': 341, 'tweets': 342, 'havee': 343, 'read': 344, 'liked': 345, 'retweeted': 346, 'what': 347, 'topics': 348, 'interested': 349, 'followers': 350, 'likes': 351, 'responses': 352, 'promoting': 353, 'exploring': 354, 'whether': 355, 'presents': 356, 'collaboration': 357, 'brokers': 358, 'ddo': 359, 'companies': 360, 'manner': 361, 'image': 362, 'tied': 363, 'deliver': 364, 'return': 365, 'helping': 366, 'suggesting': 367, 'recipients': 368, 'specifically': 369, 'ask': 370, 'trusted': 371, 'customers': 372, 'performance': 373, 'campaigns': 374, 'communications': 375, 'between': 376, 'part': 377, 'interactive': 378, 'analyze': 379, 'optimize': 380, 'job': 381, 'recruiting': 382, 'logged': 383, 'remember': 384, 'treat': 385, 'lease': 386, 'note': 387, 'comply': 388, 'obligations': 389, 'maintain': 390, 'integrity': 391, 'alow': 392, 'pieces': 393, 'stores': 394, 'back': 395, 'making': 396, 'all': 397, 'figuring': 398, 'out': 399, 'basic': 400, 'stuff': 401, 'speak': 402, 'complex': 403, 'youl': 404, 'useful': 405, 'matter': 406, 'enable': 407, 'driving': 408, 'directions': 409, 'weekend': 410, 'getaway': 411, 'showtimes': 412, 'movies': 413, 'playing': 414, 'near': 415, 'submit': 416, 'recommend': 417, 'perform': 418, 'legitimate': 419, 'actions': 420, 'authenticate': 421, 'prevent': 422, 'spam': 423, 'improvements': 424, 'understanding': 425, 'frequently': 426, 'misspelled': 427, 'spell': 428, 'check': 429, 'retrieve': 430, 'preferred': 431, 'browsers': 432, 'devices': 433, 'automatic': 434, 'dimming': 435, 'battery': 436, 'runs': 437, 'low': 438, 'requires': 439, 'at': 440, 'cases': 441, 'sell': 442, 'listed': 443, 'marketplace': 444, 'raise': 445, 'funds': 446, 'sponsors': 447, 'program': 448, 'transactions': 449, 'charged': 450, 'gather': 451, 'metrics': 452, 'evaluate': 453, 'personalization': 454, 'new': 455, 'registration': 456, 'retain': 457, 'establishment': 458, 'exercise': 459, 'defence': 460, 'claims': 461, 'must': 462, 'post': 463, 'questions': 464, 'answers': 465, 'photos': 466, 'directories': 467, 'commercially': 468, 'instagram': 469, 'lists': 470, 'relating': 471, 'newsletters': 472, 'promotional': 473, 'materials': 474, 'respond': 475, 'request': 476, 'support': 477, 'safety': 478, 'providing': 479, 'recommendations': 480, 'customized': 481, 'circumstances': 482, 'collects': 483, 'accessible': 484, 'measure': 485, 'interactions': 486, 'move': 487, 'mouse': 488, 'over': 489, 'appears': 490, 'stamp': 491, 'agent': 492, 'url': 493, 'embedded': 494, 'widgets': 495, 'plug': 496, 'ins': 497, 'sometimes': 498, 'inquiries': 499, 'additionally': 500, 'voice': 501, 'geometry': 502, 'enhance': 503, 'proprietary': 504, 'different': 505, 'linked': 506, 'disclosed': 507, 'policy': 508, 'geeksforgeeks': 509, 'uses': 510, 'site': 511, 'accesses': 512, 'visits': 513, 'based': 514, 'upon': 515, 'via': 516, 'grant': 517, 'permisision': 518, 'login': 519, 'another': 520, 'picture': 521, 'gender': 522, 'age': 523, 'range': 524, 'country': 525, 'minimum': 526, 'unless': 527, 'sms': 528, 'whatsapp': 529, 'messenger': 530, 'inviting': 531, 'view': 532, 'tiktok': 533, 'postioning': 534, 'made': 535, 'integrate': 536, 'embeds': 537, 'generate': 538, 'set': 539, 'choice': 540, 'photographs': 541, 'repositories': 542, 'free': 543, 'form': 544, 'inputs': 545, 'dara': 546, 'intentionally': 547, 'sensitive': 548, 'revealing': 549, 'racial': 550, 'ethnic': 551, 'origin': 552, 'political': 553, 'opinions': 554, 'religious': 555, 'philosophical': 556, 'beliefs': 557, 'trade': 558, 'union': 559, 'membership': 560, 'genetic': 561, 'purpose': 562, 'uniquely': 563, 'identifying': 564, 'health': 565, 'sex': 566, 'life': 567, 'sexual': 568, 'orientation': 569, 'caches': 570, 'databases': 571, 'server': 572, 'e': 573, 'g': 574, 'gold': 575, 'advertiser': 576, 'purchasing': 577, 'research': 578, 'behalf': 579, 'basis': 580, 'performing': 581, 'contract': 582, 'investigate': 583, 'possible': 584, 'attempts': 585, 'harm': 586, 'among': 587, 'show': 588, 'suggestions': 589, 'promote': 590, 'behavioral': 591, 'c': 592, 'chose': 593, 'advertisements': 594, 'quality': 595, 'birth': 596, 'telephone': 597, 'disclose': 598, 'photograph': 599, 'sync': 600, 'know': 601, 'protocol': 602, 'associate': 603, 'derive': 604, 'approximate': 605, 'employ': 606, 'known': 607, 'beacons': 608, 'anonymously': 609, 'track': 610, 'required': 611, 'law': 612, 'eea': 613, 'bases': 614, 'doing': 615, 'communicate': 616, \"you've\": 617, \"that's\": 618, 'reasons': 619, 'add': 620, 'facing': 621, 'be': 622, 'viewing': 623, 'its': 624, 'client': 625, 'preference': 626, 'version': 627, 'manufacturer': 628, 'want': 629, 'permisiion': 630, 'financial': 631, 'transaction': 632}\n"
     ]
    }
   ],
   "source": [
    "# Initialize Tokenizer\n",
    "\n",
    "tokenizer = Tokenizer(num_words=vocab_size, oov_token=oov_tok)\n",
    "tokenizer.fit_on_texts(training_sentences)\n",
    "word_index = tokenizer.word_index\n",
    "print(word_index)"
   ]
  },
  {
   "cell_type": "code",
   "execution_count": 6,
   "metadata": {},
   "outputs": [],
   "source": [
    "# Tokenize the sentences\n",
    "\n",
    "training_sequences = tokenizer.texts_to_sequences(training_sentences)\n",
    "training_padded = pad_sequences(training_sequences, maxlen=max_length, padding=padding_type, truncating=trunc_type)\n",
    "\n",
    "testing_sequences = tokenizer.texts_to_sequences(testing_sentences)\n",
    "testing_padded = pad_sequences(testing_sequences, maxlen=max_length, padding=padding_type, truncating=trunc_type)"
   ]
  },
  {
   "cell_type": "code",
   "execution_count": 7,
   "metadata": {},
   "outputs": [
    {
     "name": "stdout",
     "output_type": "stream",
     "text": [
      "WARNING:tensorflow:From C:\\Users\\Pranav\\.conda\\envs\\py37\\lib\\site-packages\\tensorflow\\python\\keras\\initializers.py:119: calling RandomUniform.__init__ (from tensorflow.python.ops.init_ops) with dtype is deprecated and will be removed in a future version.\n",
      "Instructions for updating:\n",
      "Call initializer instance with the dtype argument instead of passing it to the constructor\n",
      "WARNING:tensorflow:From C:\\Users\\Pranav\\.conda\\envs\\py37\\lib\\site-packages\\tensorflow\\python\\ops\\init_ops.py:1251: calling VarianceScaling.__init__ (from tensorflow.python.ops.init_ops) with dtype is deprecated and will be removed in a future version.\n",
      "Instructions for updating:\n",
      "Call initializer instance with the dtype argument instead of passing it to the constructor\n",
      "WARNING:tensorflow:From C:\\Users\\Pranav\\.conda\\envs\\py37\\lib\\site-packages\\tensorflow\\python\\ops\\init_ops.py:97: calling GlorotUniform.__init__ (from tensorflow.python.ops.init_ops) with dtype is deprecated and will be removed in a future version.\n",
      "Instructions for updating:\n",
      "Call initializer instance with the dtype argument instead of passing it to the constructor\n",
      "WARNING:tensorflow:From C:\\Users\\Pranav\\.conda\\envs\\py37\\lib\\site-packages\\tensorflow\\python\\ops\\init_ops.py:97: calling Orthogonal.__init__ (from tensorflow.python.ops.init_ops) with dtype is deprecated and will be removed in a future version.\n",
      "Instructions for updating:\n",
      "Call initializer instance with the dtype argument instead of passing it to the constructor\n",
      "WARNING:tensorflow:From C:\\Users\\Pranav\\.conda\\envs\\py37\\lib\\site-packages\\tensorflow\\python\\ops\\init_ops.py:97: calling Zeros.__init__ (from tensorflow.python.ops.init_ops) with dtype is deprecated and will be removed in a future version.\n",
      "Instructions for updating:\n",
      "Call initializer instance with the dtype argument instead of passing it to the constructor\n",
      "Model: \"sequential\"\n",
      "_________________________________________________________________\n",
      "Layer (type)                 Output Shape              Param #   \n",
      "=================================================================\n",
      "embedding (Embedding)        (None, 120, 128)          76800     \n",
      "_________________________________________________________________\n",
      "bidirectional (Bidirectional (None, 120, 128)          98816     \n",
      "_________________________________________________________________\n",
      "bidirectional_1 (Bidirection (None, 120, 128)          98816     \n",
      "_________________________________________________________________\n",
      "bidirectional_2 (Bidirection (None, 64)                41216     \n",
      "_________________________________________________________________\n",
      "dense (Dense)                (None, 64)                4160      \n",
      "_________________________________________________________________\n",
      "dense_1 (Dense)              (None, 32)                2080      \n",
      "_________________________________________________________________\n",
      "dense_2 (Dense)              (None, 3)                 99        \n",
      "=================================================================\n",
      "Total params: 321,987\n",
      "Trainable params: 321,987\n",
      "Non-trainable params: 0\n",
      "_________________________________________________________________\n"
     ]
    }
   ],
   "source": [
    "# Sequential LSTM Model\n",
    "\n",
    "model = tf.keras.Sequential([\n",
    "    tf.keras.layers.Embedding(vocab_size, embedding_dim, input_length=max_length),\n",
    "    tf.keras.layers.Bidirectional(tf.keras.layers.LSTM(64, return_sequences = True)),\n",
    "    tf.keras.layers.Bidirectional(tf.keras.layers.LSTM(64, return_sequences = True)),\n",
    "    tf.keras.layers.Bidirectional(tf.keras.layers.LSTM(32)),\n",
    "    tf.keras.layers.Dense(64, activation='relu'),\n",
    "    tf.keras.layers.Dense(32, activation='relu'),\n",
    "    tf.keras.layers.Dense(3, activation='softmax')\n",
    "])\n",
    "model.compile(loss='categorical_crossentropy',optimizer='adam',metrics=['accuracy'])\n",
    "model.summary()"
   ]
  },
  {
   "cell_type": "code",
   "execution_count": 8,
   "metadata": {
    "scrolled": false
   },
   "outputs": [
    {
     "name": "stdout",
     "output_type": "stream",
     "text": [
      "Train on 171 samples, validate on 58 samples\n",
      "WARNING:tensorflow:From C:\\Users\\Pranav\\.conda\\envs\\py37\\lib\\site-packages\\tensorflow\\python\\ops\\math_grad.py:1250: add_dispatch_support.<locals>.wrapper (from tensorflow.python.ops.array_ops) is deprecated and will be removed in a future version.\n",
      "Instructions for updating:\n",
      "Use tf.where in 2.0, which has the same broadcast rule as np.where\n",
      "Epoch 1/50\n",
      "171/171 [==============================] - 8s 49ms/sample - loss: 1.0936 - acc: 0.3743 - val_loss: 1.0790 - val_acc: 0.4310\n",
      "Epoch 2/50\n",
      "171/171 [==============================] - 6s 37ms/sample - loss: 1.0718 - acc: 0.4327 - val_loss: 1.0697 - val_acc: 0.4310\n",
      "Epoch 3/50\n",
      "171/171 [==============================] - 6s 35ms/sample - loss: 1.0589 - acc: 0.4327 - val_loss: 1.0596 - val_acc: 0.4310\n",
      "Epoch 4/50\n",
      "171/171 [==============================] - 6s 35ms/sample - loss: 1.0482 - acc: 0.4912 - val_loss: 1.0441 - val_acc: 0.4828\n",
      "Epoch 5/50\n",
      "171/171 [==============================] - 6s 35ms/sample - loss: 0.9689 - acc: 0.5322 - val_loss: 1.0163 - val_acc: 0.4828\n",
      "Epoch 6/50\n",
      "171/171 [==============================] - 6s 34ms/sample - loss: 0.8662 - acc: 0.6374 - val_loss: 1.0063 - val_acc: 0.4828\n",
      "Epoch 7/50\n",
      "171/171 [==============================] - 6s 35ms/sample - loss: 0.7521 - acc: 0.6959 - val_loss: 1.0815 - val_acc: 0.5172\n",
      "Epoch 8/50\n",
      "171/171 [==============================] - 6s 34ms/sample - loss: 0.6508 - acc: 0.7018 - val_loss: 1.1013 - val_acc: 0.4655\n",
      "Epoch 9/50\n",
      "171/171 [==============================] - 6s 35ms/sample - loss: 0.5620 - acc: 0.7251 - val_loss: 1.2518 - val_acc: 0.4828\n",
      "Epoch 10/50\n",
      "171/171 [==============================] - 6s 36ms/sample - loss: 0.5181 - acc: 0.7368 - val_loss: 1.2979 - val_acc: 0.4655\n",
      "Epoch 11/50\n",
      "171/171 [==============================] - 6s 35ms/sample - loss: 0.5157 - acc: 0.7251 - val_loss: 1.3844 - val_acc: 0.5172\n",
      "Epoch 12/50\n",
      "171/171 [==============================] - 6s 36ms/sample - loss: 0.4937 - acc: 0.7251 - val_loss: 1.4169 - val_acc: 0.5172\n",
      "Epoch 13/50\n",
      "171/171 [==============================] - 6s 35ms/sample - loss: 0.4770 - acc: 0.7368 - val_loss: 1.4430 - val_acc: 0.5000\n",
      "Epoch 14/50\n",
      "171/171 [==============================] - 6s 35ms/sample - loss: 0.4499 - acc: 0.7368 - val_loss: 1.5575 - val_acc: 0.4828\n",
      "Epoch 15/50\n",
      "171/171 [==============================] - 6s 36ms/sample - loss: 0.4111 - acc: 0.7602 - val_loss: 1.6240 - val_acc: 0.5000\n",
      "Epoch 16/50\n",
      "171/171 [==============================] - 6s 36ms/sample - loss: 0.3603 - acc: 0.8713 - val_loss: 1.7776 - val_acc: 0.4310\n",
      "Epoch 17/50\n",
      "171/171 [==============================] - 6s 35ms/sample - loss: 0.2987 - acc: 0.8772 - val_loss: 2.0227 - val_acc: 0.4138\n",
      "Epoch 18/50\n",
      "171/171 [==============================] - 6s 35ms/sample - loss: 0.2560 - acc: 0.8947 - val_loss: 1.9134 - val_acc: 0.4483\n",
      "Epoch 19/50\n",
      "171/171 [==============================] - 6s 35ms/sample - loss: 0.2340 - acc: 0.9064 - val_loss: 2.9500 - val_acc: 0.4828\n",
      "Epoch 20/50\n",
      "171/171 [==============================] - 6s 36ms/sample - loss: 0.3015 - acc: 0.9064 - val_loss: 2.1271 - val_acc: 0.4138\n",
      "Epoch 21/50\n",
      "171/171 [==============================] - 6s 35ms/sample - loss: 0.4069 - acc: 0.8538 - val_loss: 1.8682 - val_acc: 0.5172\n",
      "Epoch 22/50\n",
      "171/171 [==============================] - 6s 36ms/sample - loss: 0.2806 - acc: 0.8830 - val_loss: 1.6087 - val_acc: 0.5862\n",
      "Epoch 23/50\n",
      "171/171 [==============================] - 6s 35ms/sample - loss: 0.3561 - acc: 0.8713 - val_loss: 1.4388 - val_acc: 0.5345\n",
      "Epoch 24/50\n",
      "171/171 [==============================] - 6s 35ms/sample - loss: 0.2988 - acc: 0.8947 - val_loss: 1.6384 - val_acc: 0.5690\n",
      "Epoch 25/50\n",
      "171/171 [==============================] - 6s 35ms/sample - loss: 0.2574 - acc: 0.9064 - val_loss: 1.7044 - val_acc: 0.5517\n",
      "Epoch 26/50\n",
      "171/171 [==============================] - 6s 36ms/sample - loss: 0.2172 - acc: 0.9357 - val_loss: 1.6438 - val_acc: 0.5690\n",
      "Epoch 27/50\n",
      "171/171 [==============================] - 6s 37ms/sample - loss: 0.1899 - acc: 0.9357 - val_loss: 1.7535 - val_acc: 0.5862\n",
      "Epoch 28/50\n",
      "171/171 [==============================] - 6s 36ms/sample - loss: 0.1586 - acc: 0.9474 - val_loss: 1.9265 - val_acc: 0.5862\n",
      "Epoch 29/50\n",
      "171/171 [==============================] - 6s 36ms/sample - loss: 0.1449 - acc: 0.9532 - val_loss: 1.9320 - val_acc: 0.5862\n",
      "Epoch 30/50\n",
      "171/171 [==============================] - 6s 35ms/sample - loss: 0.1281 - acc: 0.9591 - val_loss: 1.9866 - val_acc: 0.5517\n",
      "Epoch 31/50\n",
      "171/171 [==============================] - 6s 36ms/sample - loss: 0.1146 - acc: 0.9591 - val_loss: 2.1275 - val_acc: 0.5690\n",
      "Epoch 32/50\n",
      "171/171 [==============================] - 6s 35ms/sample - loss: 0.1103 - acc: 0.9591 - val_loss: 2.2613 - val_acc: 0.5517\n",
      "Epoch 33/50\n",
      "171/171 [==============================] - 6s 36ms/sample - loss: 0.1126 - acc: 0.9649 - val_loss: 2.2940 - val_acc: 0.5517\n",
      "Epoch 34/50\n",
      "171/171 [==============================] - 6s 36ms/sample - loss: 0.0996 - acc: 0.9591 - val_loss: 2.4060 - val_acc: 0.5690\n",
      "Epoch 35/50\n",
      "171/171 [==============================] - 6s 37ms/sample - loss: 0.0878 - acc: 0.9883 - val_loss: 2.5746 - val_acc: 0.5172\n",
      "Epoch 36/50\n",
      "171/171 [==============================] - 6s 35ms/sample - loss: 0.0889 - acc: 0.9766 - val_loss: 2.5951 - val_acc: 0.5345\n",
      "Epoch 37/50\n",
      "171/171 [==============================] - 6s 37ms/sample - loss: 0.0837 - acc: 0.9825 - val_loss: 2.6216 - val_acc: 0.5345\n",
      "Epoch 38/50\n",
      "171/171 [==============================] - 6s 36ms/sample - loss: 0.0799 - acc: 0.9825 - val_loss: 2.7561 - val_acc: 0.5345\n",
      "Epoch 39/50\n",
      "171/171 [==============================] - 6s 35ms/sample - loss: 0.0746 - acc: 0.9883 - val_loss: 2.8311 - val_acc: 0.5345\n",
      "Epoch 40/50\n",
      "171/171 [==============================] - 6s 36ms/sample - loss: 0.0727 - acc: 0.9883 - val_loss: 2.9069 - val_acc: 0.5345\n",
      "Epoch 41/50\n",
      "171/171 [==============================] - 6s 35ms/sample - loss: 0.0709 - acc: 0.9883 - val_loss: 3.0189 - val_acc: 0.5172\n",
      "Epoch 42/50\n",
      "171/171 [==============================] - 6s 35ms/sample - loss: 0.0688 - acc: 0.9883 - val_loss: 3.0570 - val_acc: 0.5345\n",
      "Epoch 43/50\n",
      "171/171 [==============================] - 6s 36ms/sample - loss: 0.0670 - acc: 0.9883 - val_loss: 3.1132 - val_acc: 0.5345\n",
      "Epoch 44/50\n",
      "171/171 [==============================] - 6s 35ms/sample - loss: 0.0656 - acc: 0.9883 - val_loss: 3.1950 - val_acc: 0.5172\n",
      "Epoch 45/50\n",
      "171/171 [==============================] - 6s 35ms/sample - loss: 0.0634 - acc: 0.9883 - val_loss: 3.3044 - val_acc: 0.5172\n",
      "Epoch 46/50\n",
      "171/171 [==============================] - 6s 36ms/sample - loss: 0.0621 - acc: 0.9883 - val_loss: 3.3723 - val_acc: 0.5172\n",
      "Epoch 47/50\n",
      "171/171 [==============================] - 6s 35ms/sample - loss: 0.0606 - acc: 0.9883 - val_loss: 3.4112 - val_acc: 0.5172\n",
      "Epoch 48/50\n",
      "171/171 [==============================] - 6s 35ms/sample - loss: 0.0601 - acc: 0.9883 - val_loss: 3.4486 - val_acc: 0.5172\n",
      "Epoch 49/50\n",
      "171/171 [==============================] - 6s 37ms/sample - loss: 0.0594 - acc: 0.9883 - val_loss: 3.5348 - val_acc: 0.5172\n",
      "Epoch 50/50\n",
      "171/171 [==============================] - 6s 36ms/sample - loss: 0.0591 - acc: 0.9883 - val_loss: 3.5837 - val_acc: 0.5172\n"
     ]
    }
   ],
   "source": [
    "# Set Training Parameters\n",
    "\n",
    "num_epochs = 50\n",
    "training_padded = np.array(training_padded)\n",
    "training_labels = np.array(training_labels)\n",
    "testing_padded = np.array(testing_padded)\n",
    "testing_labels = np.array(testing_labels)\n",
    "history = model.fit(training_padded, training_labels, epochs=num_epochs, validation_data=(testing_padded, testing_labels), verbose=1)"
   ]
  },
  {
   "cell_type": "code",
   "execution_count": 9,
   "metadata": {},
   "outputs": [
    {
     "name": "stdout",
     "output_type": "stream",
     "text": [
      "25.982456140350877\n"
     ]
    }
   ],
   "source": [
    "avg = 0\n",
    "\n",
    "for i in range(len(training_sequences)):\n",
    "    avg = avg + len(training_sequences[i])\n",
    "    \n",
    "print(avg/(len(training_sequences)))"
   ]
  },
  {
   "cell_type": "code",
   "execution_count": 10,
   "metadata": {},
   "outputs": [
    {
     "name": "stdout",
     "output_type": "stream",
     "text": [
      "108\n",
      "141\n",
      "If you c, we will access and collect your phone contacts, including the names, phone numbers, addresses and any other information that you have stored on your phone about your contacts in order to determine if they are using the Platform by matching them with existing users of the Platform.If you chose to find other users through your phone contacts, we will access and collect your phone contacts, including the names, phone numbers, addresses and any other information that you have stored on your phone about your contacts in order to determine if they are using the Platform by matching them with existing users of the Platform.\n",
      "\n",
      "\n",
      "This is information we collect from every visitor to the Website, whether they have an Account or not.\n",
      "\n"
     ]
    },
    {
     "data": {
      "text/plain": [
       "''"
      ]
     },
     "execution_count": 10,
     "metadata": {},
     "output_type": "execute_result"
    }
   ],
   "source": [
    "mini = 0\n",
    "index = 0\n",
    "indextest = 0\n",
    "for i in range(len(training_sequences)):\n",
    "    if len(training_sequences[i]) > mini:\n",
    "        mini = len(training_sequences[i])\n",
    "        index = i\n",
    "        \n",
    "for i in range(len(testing_sequences)):\n",
    "    if len(testing_sequences[i]) > mini:\n",
    "        mini = len(testing_sequences[i])\n",
    "        indextest = i\n",
    "\n",
    "print(mini)\n",
    "print(index)\n",
    "print(training_sentences[index])\n",
    "print(\"\\n\")\n",
    "print(testing_sentences[indextest])\n",
    "input()"
   ]
  },
  {
   "cell_type": "code",
   "execution_count": 11,
   "metadata": {},
   "outputs": [
    {
     "name": "stdout",
     "output_type": "stream",
     "text": [
      "\n"
     ]
    }
   ],
   "source": [
    "if input() == \"yes\":\n",
    "    model.save(\"Weights/Type1_LSTM.h5\")"
   ]
  },
  {
   "cell_type": "code",
   "execution_count": 12,
   "metadata": {},
   "outputs": [
    {
     "name": "stdout",
     "output_type": "stream",
     "text": [
      "\n"
     ]
    }
   ],
   "source": [
    "# Load the previously saved weights\n",
    "if input() == \"yes\":\n",
    "    model.load_weights(\"Weights/Type1_LSTM.h5\")\n",
    "\n",
    "    # Re-evaluate the model\n",
    "    loss, acc = model.evaluate(testing_padded, testing_labels, verbose=2)\n",
    "    print(\"Restored model, accuracy: {:5.2f}%\".format(100*acc))"
   ]
  }
 ],
 "metadata": {
  "kernelspec": {
   "display_name": "Python 3",
   "language": "python",
   "name": "python3"
  },
  "language_info": {
   "codemirror_mode": {
    "name": "ipython",
    "version": 3
   },
   "file_extension": ".py",
   "mimetype": "text/x-python",
   "name": "python",
   "nbconvert_exporter": "python",
   "pygments_lexer": "ipython3",
   "version": "3.7.4"
  }
 },
 "nbformat": 4,
 "nbformat_minor": 4
}
